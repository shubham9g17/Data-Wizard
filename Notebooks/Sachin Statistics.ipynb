{
 "cells": [
  {
   "cell_type": "code",
   "execution_count": 1,
   "metadata": {
    "ExecuteTime": {
     "end_time": "2020-10-03T07:52:32.730359Z",
     "start_time": "2020-10-03T07:52:30.314645Z"
    }
   },
   "outputs": [],
   "source": [
    "import numpy as np\n",
    "import pandas as pd\n",
    "import matplotlib.pyplot as plt\n",
    "import seaborn as sns\n",
    "sns.set_style('whitegrid')"
   ]
  },
  {
   "cell_type": "code",
   "execution_count": 2,
   "metadata": {
    "ExecuteTime": {
     "end_time": "2020-10-03T07:52:33.515259Z",
     "start_time": "2020-10-03T07:52:32.733353Z"
    }
   },
   "outputs": [],
   "source": [
    "stat=pd.read_excel(\"Datasets/Sachin Tendulkar Batting Stats.xlsx\")"
   ]
  },
  {
   "cell_type": "code",
   "execution_count": 3,
   "metadata": {
    "ExecuteTime": {
     "end_time": "2020-10-03T07:52:33.588067Z",
     "start_time": "2020-10-03T07:52:33.518252Z"
    }
   },
   "outputs": [
    {
     "data": {
      "text/html": [
       "<div>\n",
       "<style scoped>\n",
       "    .dataframe tbody tr th:only-of-type {\n",
       "        vertical-align: middle;\n",
       "    }\n",
       "\n",
       "    .dataframe tbody tr th {\n",
       "        vertical-align: top;\n",
       "    }\n",
       "\n",
       "    .dataframe thead th {\n",
       "        text-align: right;\n",
       "    }\n",
       "</style>\n",
       "<table border=\"1\" class=\"dataframe\">\n",
       "  <thead>\n",
       "    <tr style=\"text-align: right;\">\n",
       "      <th></th>\n",
       "      <th>Runs</th>\n",
       "      <th>Mins</th>\n",
       "      <th>BF</th>\n",
       "      <th>4s</th>\n",
       "      <th>6s</th>\n",
       "      <th>SR</th>\n",
       "      <th>Pos</th>\n",
       "      <th>Dismissal</th>\n",
       "      <th>Inns</th>\n",
       "      <th>Opposition</th>\n",
       "      <th>Ground</th>\n",
       "      <th>Location</th>\n",
       "      <th>Country</th>\n",
       "      <th>Continent</th>\n",
       "      <th>Start Date</th>\n",
       "      <th>Match Number</th>\n",
       "      <th>Result</th>\n",
       "      <th>Mode</th>\n",
       "      <th>Match Type</th>\n",
       "    </tr>\n",
       "  </thead>\n",
       "  <tbody>\n",
       "    <tr>\n",
       "      <th>0</th>\n",
       "      <td>11</td>\n",
       "      <td>92.0</td>\n",
       "      <td>NaN</td>\n",
       "      <td>NaN</td>\n",
       "      <td>0.0</td>\n",
       "      <td>NaN</td>\n",
       "      <td>6.0</td>\n",
       "      <td>LBW</td>\n",
       "      <td>1.0</td>\n",
       "      <td>Sri Lanka</td>\n",
       "      <td>Chandigarh</td>\n",
       "      <td>Chandigarh</td>\n",
       "      <td>India</td>\n",
       "      <td>Asia</td>\n",
       "      <td>1990-11-23</td>\n",
       "      <td>Test # 1156</td>\n",
       "      <td>Won</td>\n",
       "      <td>Home</td>\n",
       "      <td>Test</td>\n",
       "    </tr>\n",
       "    <tr>\n",
       "      <th>1</th>\n",
       "      <td>50</td>\n",
       "      <td>158.0</td>\n",
       "      <td>118.0</td>\n",
       "      <td>6.0</td>\n",
       "      <td>0.0</td>\n",
       "      <td>42.37</td>\n",
       "      <td>4.0</td>\n",
       "      <td>Caught</td>\n",
       "      <td>1.0</td>\n",
       "      <td>England</td>\n",
       "      <td>Kolkata</td>\n",
       "      <td>Kolkata</td>\n",
       "      <td>India</td>\n",
       "      <td>Asia</td>\n",
       "      <td>1993-01-29</td>\n",
       "      <td>Test # 1211</td>\n",
       "      <td>Won</td>\n",
       "      <td>Home</td>\n",
       "      <td>Test</td>\n",
       "    </tr>\n",
       "    <tr>\n",
       "      <th>2</th>\n",
       "      <td>9</td>\n",
       "      <td>17.0</td>\n",
       "      <td>19.0</td>\n",
       "      <td>2.0</td>\n",
       "      <td>0.0</td>\n",
       "      <td>47.36</td>\n",
       "      <td>4.0</td>\n",
       "      <td>Not Out</td>\n",
       "      <td>4.0</td>\n",
       "      <td>England</td>\n",
       "      <td>Kolkata</td>\n",
       "      <td>Kolkata</td>\n",
       "      <td>India</td>\n",
       "      <td>Asia</td>\n",
       "      <td>1993-01-29</td>\n",
       "      <td>Test # 1211</td>\n",
       "      <td>Won</td>\n",
       "      <td>Home</td>\n",
       "      <td>Test</td>\n",
       "    </tr>\n",
       "    <tr>\n",
       "      <th>3</th>\n",
       "      <td>165</td>\n",
       "      <td>361.0</td>\n",
       "      <td>296.0</td>\n",
       "      <td>24.0</td>\n",
       "      <td>1.0</td>\n",
       "      <td>55.74</td>\n",
       "      <td>4.0</td>\n",
       "      <td>Caught</td>\n",
       "      <td>1.0</td>\n",
       "      <td>England</td>\n",
       "      <td>Chennai</td>\n",
       "      <td>Chennai</td>\n",
       "      <td>India</td>\n",
       "      <td>Asia</td>\n",
       "      <td>1993-02-11</td>\n",
       "      <td>Test # 1213</td>\n",
       "      <td>Won</td>\n",
       "      <td>Home</td>\n",
       "      <td>Test</td>\n",
       "    </tr>\n",
       "    <tr>\n",
       "      <th>4</th>\n",
       "      <td>78</td>\n",
       "      <td>285.0</td>\n",
       "      <td>213.0</td>\n",
       "      <td>10.0</td>\n",
       "      <td>0.0</td>\n",
       "      <td>36.61</td>\n",
       "      <td>4.0</td>\n",
       "      <td>LBW</td>\n",
       "      <td>2.0</td>\n",
       "      <td>England</td>\n",
       "      <td>Mumbai</td>\n",
       "      <td>Mumbai</td>\n",
       "      <td>India</td>\n",
       "      <td>Asia</td>\n",
       "      <td>1993-02-19</td>\n",
       "      <td>Test # 1214</td>\n",
       "      <td>Won</td>\n",
       "      <td>Home</td>\n",
       "      <td>Test</td>\n",
       "    </tr>\n",
       "    <tr>\n",
       "      <th>...</th>\n",
       "      <td>...</td>\n",
       "      <td>...</td>\n",
       "      <td>...</td>\n",
       "      <td>...</td>\n",
       "      <td>...</td>\n",
       "      <td>...</td>\n",
       "      <td>...</td>\n",
       "      <td>...</td>\n",
       "      <td>...</td>\n",
       "      <td>...</td>\n",
       "      <td>...</td>\n",
       "      <td>...</td>\n",
       "      <td>...</td>\n",
       "      <td>...</td>\n",
       "      <td>...</td>\n",
       "      <td>...</td>\n",
       "      <td>...</td>\n",
       "      <td>...</td>\n",
       "      <td>...</td>\n",
       "    </tr>\n",
       "    <tr>\n",
       "      <th>814</th>\n",
       "      <td>14</td>\n",
       "      <td>34.0</td>\n",
       "      <td>15.0</td>\n",
       "      <td>2.0</td>\n",
       "      <td>0.0</td>\n",
       "      <td>93.33</td>\n",
       "      <td>2.0</td>\n",
       "      <td>Run Out</td>\n",
       "      <td>2.0</td>\n",
       "      <td>Australia</td>\n",
       "      <td>Sydney</td>\n",
       "      <td>Sydney</td>\n",
       "      <td>Australia</td>\n",
       "      <td>Australia</td>\n",
       "      <td>2012-02-26</td>\n",
       "      <td>ODI # 3250</td>\n",
       "      <td>Lost</td>\n",
       "      <td>Away</td>\n",
       "      <td>ODI</td>\n",
       "    </tr>\n",
       "    <tr>\n",
       "      <th>815</th>\n",
       "      <td>39</td>\n",
       "      <td>45.0</td>\n",
       "      <td>30.0</td>\n",
       "      <td>5.0</td>\n",
       "      <td>0.0</td>\n",
       "      <td>130.00</td>\n",
       "      <td>2.0</td>\n",
       "      <td>LBW</td>\n",
       "      <td>2.0</td>\n",
       "      <td>Sri Lanka</td>\n",
       "      <td>Hobart</td>\n",
       "      <td>Hobart</td>\n",
       "      <td>Australia</td>\n",
       "      <td>Australia</td>\n",
       "      <td>2012-02-28</td>\n",
       "      <td>ODI # 3251</td>\n",
       "      <td>Won</td>\n",
       "      <td>Away</td>\n",
       "      <td>ODI</td>\n",
       "    </tr>\n",
       "    <tr>\n",
       "      <th>816</th>\n",
       "      <td>6</td>\n",
       "      <td>25.0</td>\n",
       "      <td>19.0</td>\n",
       "      <td>1.0</td>\n",
       "      <td>0.0</td>\n",
       "      <td>31.57</td>\n",
       "      <td>2.0</td>\n",
       "      <td>Caught</td>\n",
       "      <td>1.0</td>\n",
       "      <td>Sri Lanka</td>\n",
       "      <td>Dhaka</td>\n",
       "      <td>Dhaka</td>\n",
       "      <td>Bangladesh</td>\n",
       "      <td>Asia</td>\n",
       "      <td>2012-03-13</td>\n",
       "      <td>ODI # 3259</td>\n",
       "      <td>Won</td>\n",
       "      <td>Away</td>\n",
       "      <td>ODI</td>\n",
       "    </tr>\n",
       "    <tr>\n",
       "      <th>817</th>\n",
       "      <td>114</td>\n",
       "      <td>205.0</td>\n",
       "      <td>147.0</td>\n",
       "      <td>12.0</td>\n",
       "      <td>1.0</td>\n",
       "      <td>77.55</td>\n",
       "      <td>2.0</td>\n",
       "      <td>Caught</td>\n",
       "      <td>1.0</td>\n",
       "      <td>Bangladesh</td>\n",
       "      <td>Dhaka</td>\n",
       "      <td>Dhaka</td>\n",
       "      <td>Bangladesh</td>\n",
       "      <td>Asia</td>\n",
       "      <td>2012-03-16</td>\n",
       "      <td>ODI # 3261</td>\n",
       "      <td>Lost</td>\n",
       "      <td>Away</td>\n",
       "      <td>ODI</td>\n",
       "    </tr>\n",
       "    <tr>\n",
       "      <th>818</th>\n",
       "      <td>52</td>\n",
       "      <td>93.0</td>\n",
       "      <td>48.0</td>\n",
       "      <td>5.0</td>\n",
       "      <td>1.0</td>\n",
       "      <td>108.33</td>\n",
       "      <td>2.0</td>\n",
       "      <td>Caught</td>\n",
       "      <td>2.0</td>\n",
       "      <td>Pakistan</td>\n",
       "      <td>Dhaka</td>\n",
       "      <td>Dhaka</td>\n",
       "      <td>Bangladesh</td>\n",
       "      <td>Asia</td>\n",
       "      <td>2012-03-18</td>\n",
       "      <td>ODI # 3263</td>\n",
       "      <td>Won</td>\n",
       "      <td>Away</td>\n",
       "      <td>ODI</td>\n",
       "    </tr>\n",
       "  </tbody>\n",
       "</table>\n",
       "<p>819 rows × 19 columns</p>\n",
       "</div>"
      ],
      "text/plain": [
       "    Runs   Mins     BF    4s   6s      SR  Pos Dismissal  Inns  Opposition  \\\n",
       "0     11   92.0    NaN   NaN  0.0     NaN  6.0       LBW   1.0   Sri Lanka   \n",
       "1     50  158.0  118.0   6.0  0.0   42.37  4.0    Caught   1.0     England   \n",
       "2      9   17.0   19.0   2.0  0.0   47.36  4.0   Not Out   4.0     England   \n",
       "3    165  361.0  296.0  24.0  1.0   55.74  4.0    Caught   1.0     England   \n",
       "4     78  285.0  213.0  10.0  0.0   36.61  4.0       LBW   2.0     England   \n",
       "..   ...    ...    ...   ...  ...     ...  ...       ...   ...         ...   \n",
       "814   14   34.0   15.0   2.0  0.0   93.33  2.0   Run Out   2.0   Australia   \n",
       "815   39   45.0   30.0   5.0  0.0  130.00  2.0       LBW   2.0   Sri Lanka   \n",
       "816    6   25.0   19.0   1.0  0.0   31.57  2.0    Caught   1.0   Sri Lanka   \n",
       "817  114  205.0  147.0  12.0  1.0   77.55  2.0    Caught   1.0  Bangladesh   \n",
       "818   52   93.0   48.0   5.0  1.0  108.33  2.0    Caught   2.0    Pakistan   \n",
       "\n",
       "         Ground    Location     Country  Continent Start Date Match Number  \\\n",
       "0    Chandigarh  Chandigarh       India       Asia 1990-11-23  Test # 1156   \n",
       "1       Kolkata     Kolkata       India       Asia 1993-01-29  Test # 1211   \n",
       "2       Kolkata     Kolkata       India       Asia 1993-01-29  Test # 1211   \n",
       "3       Chennai     Chennai       India       Asia 1993-02-11  Test # 1213   \n",
       "4        Mumbai      Mumbai       India       Asia 1993-02-19  Test # 1214   \n",
       "..          ...         ...         ...        ...        ...          ...   \n",
       "814      Sydney      Sydney   Australia  Australia 2012-02-26   ODI # 3250   \n",
       "815      Hobart      Hobart   Australia  Australia 2012-02-28   ODI # 3251   \n",
       "816       Dhaka       Dhaka  Bangladesh       Asia 2012-03-13   ODI # 3259   \n",
       "817       Dhaka       Dhaka  Bangladesh       Asia 2012-03-16   ODI # 3261   \n",
       "818       Dhaka       Dhaka  Bangladesh       Asia 2012-03-18   ODI # 3263   \n",
       "\n",
       "    Result  Mode Match Type  \n",
       "0      Won  Home       Test  \n",
       "1      Won  Home       Test  \n",
       "2      Won  Home       Test  \n",
       "3      Won  Home       Test  \n",
       "4      Won  Home       Test  \n",
       "..     ...   ...        ...  \n",
       "814   Lost  Away        ODI  \n",
       "815    Won  Away        ODI  \n",
       "816    Won  Away        ODI  \n",
       "817   Lost  Away        ODI  \n",
       "818    Won  Away        ODI  \n",
       "\n",
       "[819 rows x 19 columns]"
      ]
     },
     "execution_count": 3,
     "metadata": {},
     "output_type": "execute_result"
    }
   ],
   "source": [
    "stat"
   ]
  },
  {
   "cell_type": "code",
   "execution_count": 4,
   "metadata": {
    "ExecuteTime": {
     "end_time": "2020-10-03T07:52:33.682813Z",
     "start_time": "2020-10-03T07:52:33.591073Z"
    }
   },
   "outputs": [
    {
     "name": "stdout",
     "output_type": "stream",
     "text": [
      "<class 'pandas.core.frame.DataFrame'>\n",
      "RangeIndex: 819 entries, 0 to 818\n",
      "Data columns (total 19 columns):\n",
      " #   Column        Non-Null Count  Dtype         \n",
      "---  ------        --------------  -----         \n",
      " 0   Runs          819 non-null    object        \n",
      " 1   Mins          736 non-null    float64       \n",
      " 2   BF            789 non-null    float64       \n",
      " 3   4s            789 non-null    float64       \n",
      " 4   6s            790 non-null    float64       \n",
      " 5   SR            788 non-null    float64       \n",
      " 6   Pos           790 non-null    float64       \n",
      " 7   Dismissal     790 non-null    object        \n",
      " 8   Inns          812 non-null    float64       \n",
      " 9   Opposition    819 non-null    object        \n",
      " 10  Ground        819 non-null    object        \n",
      " 11  Location      819 non-null    object        \n",
      " 12  Country       819 non-null    object        \n",
      " 13  Continent     819 non-null    object        \n",
      " 14  Start Date    819 non-null    datetime64[ns]\n",
      " 15  Match Number  819 non-null    object        \n",
      " 16  Result        819 non-null    object        \n",
      " 17  Mode          819 non-null    object        \n",
      " 18  Match Type    819 non-null    object        \n",
      "dtypes: datetime64[ns](1), float64(7), object(11)\n",
      "memory usage: 121.7+ KB\n"
     ]
    }
   ],
   "source": [
    "stat.info()"
   ]
  },
  {
   "cell_type": "code",
   "execution_count": 5,
   "metadata": {
    "ExecuteTime": {
     "end_time": "2020-10-03T07:52:33.993982Z",
     "start_time": "2020-10-03T07:52:33.685804Z"
    }
   },
   "outputs": [
    {
     "data": {
      "text/html": [
       "<div>\n",
       "<style scoped>\n",
       "    .dataframe tbody tr th:only-of-type {\n",
       "        vertical-align: middle;\n",
       "    }\n",
       "\n",
       "    .dataframe tbody tr th {\n",
       "        vertical-align: top;\n",
       "    }\n",
       "\n",
       "    .dataframe thead th {\n",
       "        text-align: right;\n",
       "    }\n",
       "</style>\n",
       "<table border=\"1\" class=\"dataframe\">\n",
       "  <thead>\n",
       "    <tr style=\"text-align: right;\">\n",
       "      <th></th>\n",
       "      <th>Mins</th>\n",
       "      <th>BF</th>\n",
       "      <th>4s</th>\n",
       "      <th>6s</th>\n",
       "      <th>SR</th>\n",
       "      <th>Pos</th>\n",
       "      <th>Inns</th>\n",
       "    </tr>\n",
       "  </thead>\n",
       "  <tbody>\n",
       "    <tr>\n",
       "      <th>count</th>\n",
       "      <td>736.000000</td>\n",
       "      <td>789.000000</td>\n",
       "      <td>789.000000</td>\n",
       "      <td>790.000000</td>\n",
       "      <td>788.000000</td>\n",
       "      <td>790.000000</td>\n",
       "      <td>812.000000</td>\n",
       "    </tr>\n",
       "    <tr>\n",
       "      <th>mean</th>\n",
       "      <td>96.448370</td>\n",
       "      <td>65.008872</td>\n",
       "      <td>5.206591</td>\n",
       "      <td>0.336709</td>\n",
       "      <td>64.970914</td>\n",
       "      <td>3.226582</td>\n",
       "      <td>1.895320</td>\n",
       "    </tr>\n",
       "    <tr>\n",
       "      <th>std</th>\n",
       "      <td>96.625218</td>\n",
       "      <td>67.590257</td>\n",
       "      <td>5.592477</td>\n",
       "      <td>0.850285</td>\n",
       "      <td>33.591631</td>\n",
       "      <td>1.304395</td>\n",
       "      <td>0.918438</td>\n",
       "    </tr>\n",
       "    <tr>\n",
       "      <th>min</th>\n",
       "      <td>1.000000</td>\n",
       "      <td>0.000000</td>\n",
       "      <td>0.000000</td>\n",
       "      <td>0.000000</td>\n",
       "      <td>0.000000</td>\n",
       "      <td>1.000000</td>\n",
       "      <td>1.000000</td>\n",
       "    </tr>\n",
       "    <tr>\n",
       "      <th>25%</th>\n",
       "      <td>26.000000</td>\n",
       "      <td>17.000000</td>\n",
       "      <td>1.000000</td>\n",
       "      <td>0.000000</td>\n",
       "      <td>43.862500</td>\n",
       "      <td>2.000000</td>\n",
       "      <td>1.000000</td>\n",
       "    </tr>\n",
       "    <tr>\n",
       "      <th>50%</th>\n",
       "      <td>67.500000</td>\n",
       "      <td>42.000000</td>\n",
       "      <td>3.000000</td>\n",
       "      <td>0.000000</td>\n",
       "      <td>63.165000</td>\n",
       "      <td>4.000000</td>\n",
       "      <td>2.000000</td>\n",
       "    </tr>\n",
       "    <tr>\n",
       "      <th>75%</th>\n",
       "      <td>132.250000</td>\n",
       "      <td>91.000000</td>\n",
       "      <td>8.000000</td>\n",
       "      <td>0.000000</td>\n",
       "      <td>84.682500</td>\n",
       "      <td>4.000000</td>\n",
       "      <td>2.000000</td>\n",
       "    </tr>\n",
       "    <tr>\n",
       "      <th>max</th>\n",
       "      <td>613.000000</td>\n",
       "      <td>436.000000</td>\n",
       "      <td>35.000000</td>\n",
       "      <td>7.000000</td>\n",
       "      <td>196.550000</td>\n",
       "      <td>7.000000</td>\n",
       "      <td>4.000000</td>\n",
       "    </tr>\n",
       "  </tbody>\n",
       "</table>\n",
       "</div>"
      ],
      "text/plain": [
       "             Mins          BF          4s          6s          SR         Pos  \\\n",
       "count  736.000000  789.000000  789.000000  790.000000  788.000000  790.000000   \n",
       "mean    96.448370   65.008872    5.206591    0.336709   64.970914    3.226582   \n",
       "std     96.625218   67.590257    5.592477    0.850285   33.591631    1.304395   \n",
       "min      1.000000    0.000000    0.000000    0.000000    0.000000    1.000000   \n",
       "25%     26.000000   17.000000    1.000000    0.000000   43.862500    2.000000   \n",
       "50%     67.500000   42.000000    3.000000    0.000000   63.165000    4.000000   \n",
       "75%    132.250000   91.000000    8.000000    0.000000   84.682500    4.000000   \n",
       "max    613.000000  436.000000   35.000000    7.000000  196.550000    7.000000   \n",
       "\n",
       "             Inns  \n",
       "count  812.000000  \n",
       "mean     1.895320  \n",
       "std      0.918438  \n",
       "min      1.000000  \n",
       "25%      1.000000  \n",
       "50%      2.000000  \n",
       "75%      2.000000  \n",
       "max      4.000000  "
      ]
     },
     "execution_count": 5,
     "metadata": {},
     "output_type": "execute_result"
    }
   ],
   "source": [
    "stat.describe()"
   ]
  },
  {
   "cell_type": "markdown",
   "metadata": {},
   "source": [
    "#### Deleting rows where sachin didnt bat"
   ]
  },
  {
   "cell_type": "code",
   "execution_count": 6,
   "metadata": {
    "ExecuteTime": {
     "end_time": "2020-10-03T07:52:34.028890Z",
     "start_time": "2020-10-03T07:52:33.996973Z"
    }
   },
   "outputs": [
    {
     "data": {
      "text/plain": [
       "Int64Index([ 29,  39,  66,  85,  91, 109, 232, 240, 250, 267, 277, 302, 307,\n",
       "            309, 311, 321, 341, 366, 388, 411, 631, 654],\n",
       "           dtype='int64')"
      ]
     },
     "execution_count": 6,
     "metadata": {},
     "output_type": "execute_result"
    }
   ],
   "source": [
    "stat[stat[\"Runs\"]==\"DNB\"].index"
   ]
  },
  {
   "cell_type": "code",
   "execution_count": 7,
   "metadata": {
    "ExecuteTime": {
     "end_time": "2020-10-03T07:52:34.133608Z",
     "start_time": "2020-10-03T07:52:34.031881Z"
    }
   },
   "outputs": [],
   "source": [
    "stat.drop([ 29,  39,  66,  85,  91, 109, 232, 240, 250, 267, 277, 302, 307,\n",
    "            309, 311, 321, 341, 366, 388, 411, 631, 654],inplace=True)"
   ]
  },
  {
   "cell_type": "code",
   "execution_count": 8,
   "metadata": {
    "ExecuteTime": {
     "end_time": "2020-10-03T07:52:34.250296Z",
     "start_time": "2020-10-03T07:52:34.137598Z"
    }
   },
   "outputs": [
    {
     "data": {
      "text/plain": [
       "0      35\n",
       "1      32\n",
       "2      23\n",
       "8      23\n",
       "4      21\n",
       "       ..\n",
       "134     1\n",
       "136     1\n",
       "137     1\n",
       "138     1\n",
       "248     1\n",
       "Name: Runs, Length: 158, dtype: int64"
      ]
     },
     "execution_count": 8,
     "metadata": {},
     "output_type": "execute_result"
    }
   ],
   "source": [
    "stat[\"Runs\"].value_counts()"
   ]
  },
  {
   "cell_type": "code",
   "execution_count": 9,
   "metadata": {
    "ExecuteTime": {
     "end_time": "2020-10-03T07:52:34.358007Z",
     "start_time": "2020-10-03T07:52:34.254288Z"
    }
   },
   "outputs": [],
   "source": [
    "stat.loc[stat[\"Runs\"]==\"13*\",\"Runs\"]=13"
   ]
  },
  {
   "cell_type": "code",
   "execution_count": 10,
   "metadata": {
    "ExecuteTime": {
     "end_time": "2020-10-03T07:52:34.459737Z",
     "start_time": "2020-10-03T07:52:34.360999Z"
    }
   },
   "outputs": [
    {
     "data": {
      "text/plain": [
       "Int64Index([251, 507, 516, 527, 550, 734, 785], dtype='int64')"
      ]
     },
     "execution_count": 10,
     "metadata": {},
     "output_type": "execute_result"
    }
   ],
   "source": [
    "stat[stat[\"Runs\"]==\"TDNB\"].index"
   ]
  },
  {
   "cell_type": "code",
   "execution_count": 11,
   "metadata": {
    "ExecuteTime": {
     "end_time": "2020-10-03T07:52:34.555479Z",
     "start_time": "2020-10-03T07:52:34.462729Z"
    }
   },
   "outputs": [],
   "source": [
    "stat.drop([251, 507, 516, 527, 550, 734, 785],inplace=True)"
   ]
  },
  {
   "cell_type": "code",
   "execution_count": 12,
   "metadata": {
    "ExecuteTime": {
     "end_time": "2020-10-03T07:52:34.678151Z",
     "start_time": "2020-10-03T07:52:34.558471Z"
    }
   },
   "outputs": [],
   "source": [
    "stat[\"Runs\"]=stat[\"Runs\"].astype(int)"
   ]
  },
  {
   "cell_type": "code",
   "execution_count": 13,
   "metadata": {
    "ExecuteTime": {
     "end_time": "2020-10-03T07:52:34.824760Z",
     "start_time": "2020-10-03T07:52:34.681145Z"
    }
   },
   "outputs": [
    {
     "name": "stdout",
     "output_type": "stream",
     "text": [
      "<class 'pandas.core.frame.DataFrame'>\n",
      "Int64Index: 790 entries, 0 to 818\n",
      "Data columns (total 19 columns):\n",
      " #   Column        Non-Null Count  Dtype         \n",
      "---  ------        --------------  -----         \n",
      " 0   Runs          790 non-null    int32         \n",
      " 1   Mins          736 non-null    float64       \n",
      " 2   BF            789 non-null    float64       \n",
      " 3   4s            789 non-null    float64       \n",
      " 4   6s            790 non-null    float64       \n",
      " 5   SR            788 non-null    float64       \n",
      " 6   Pos           790 non-null    float64       \n",
      " 7   Dismissal     790 non-null    object        \n",
      " 8   Inns          790 non-null    float64       \n",
      " 9   Opposition    790 non-null    object        \n",
      " 10  Ground        790 non-null    object        \n",
      " 11  Location      790 non-null    object        \n",
      " 12  Country       790 non-null    object        \n",
      " 13  Continent     790 non-null    object        \n",
      " 14  Start Date    790 non-null    datetime64[ns]\n",
      " 15  Match Number  790 non-null    object        \n",
      " 16  Result        790 non-null    object        \n",
      " 17  Mode          790 non-null    object        \n",
      " 18  Match Type    790 non-null    object        \n",
      "dtypes: datetime64[ns](1), float64(7), int32(1), object(10)\n",
      "memory usage: 120.4+ KB\n"
     ]
    }
   ],
   "source": [
    "stat.info()"
   ]
  },
  {
   "cell_type": "code",
   "execution_count": 14,
   "metadata": {
    "ExecuteTime": {
     "end_time": "2020-10-03T07:52:34.987325Z",
     "start_time": "2020-10-03T07:52:34.827751Z"
    }
   },
   "outputs": [
    {
     "data": {
      "text/plain": [
       "10.0     14\n",
       "25.0     13\n",
       "17.0     10\n",
       "33.0     10\n",
       "13.0      9\n",
       "         ..\n",
       "100.0     1\n",
       "176.0     1\n",
       "112.0     1\n",
       "134.0     1\n",
       "238.0     1\n",
       "Name: Mins, Length: 246, dtype: int64"
      ]
     },
     "execution_count": 14,
     "metadata": {},
     "output_type": "execute_result"
    }
   ],
   "source": [
    "stat[\"Mins\"].value_counts()"
   ]
  },
  {
   "cell_type": "code",
   "execution_count": 15,
   "metadata": {
    "ExecuteTime": {
     "end_time": "2020-10-03T07:52:35.102017Z",
     "start_time": "2020-10-03T07:52:34.990318Z"
    }
   },
   "outputs": [
    {
     "data": {
      "text/plain": [
       "54"
      ]
     },
     "execution_count": 15,
     "metadata": {},
     "output_type": "execute_result"
    }
   ],
   "source": [
    "stat[\"Mins\"].isnull().sum()"
   ]
  },
  {
   "cell_type": "code",
   "execution_count": 16,
   "metadata": {
    "ExecuteTime": {
     "end_time": "2020-10-03T07:52:35.220699Z",
     "start_time": "2020-10-03T07:52:35.105010Z"
    }
   },
   "outputs": [],
   "source": [
    "stat.drop(\"Mins\",axis=1,inplace=True) # not much of significance "
   ]
  },
  {
   "cell_type": "code",
   "execution_count": 17,
   "metadata": {
    "ExecuteTime": {
     "end_time": "2020-10-03T07:52:35.350354Z",
     "start_time": "2020-10-03T07:52:35.223693Z"
    }
   },
   "outputs": [
    {
     "data": {
      "text/html": [
       "<div>\n",
       "<style scoped>\n",
       "    .dataframe tbody tr th:only-of-type {\n",
       "        vertical-align: middle;\n",
       "    }\n",
       "\n",
       "    .dataframe tbody tr th {\n",
       "        vertical-align: top;\n",
       "    }\n",
       "\n",
       "    .dataframe thead th {\n",
       "        text-align: right;\n",
       "    }\n",
       "</style>\n",
       "<table border=\"1\" class=\"dataframe\">\n",
       "  <thead>\n",
       "    <tr style=\"text-align: right;\">\n",
       "      <th></th>\n",
       "      <th>Runs</th>\n",
       "      <th>BF</th>\n",
       "      <th>4s</th>\n",
       "      <th>6s</th>\n",
       "      <th>SR</th>\n",
       "      <th>Pos</th>\n",
       "      <th>Dismissal</th>\n",
       "      <th>Inns</th>\n",
       "      <th>Opposition</th>\n",
       "      <th>Ground</th>\n",
       "      <th>Location</th>\n",
       "      <th>Country</th>\n",
       "      <th>Continent</th>\n",
       "      <th>Start Date</th>\n",
       "      <th>Match Number</th>\n",
       "      <th>Result</th>\n",
       "      <th>Mode</th>\n",
       "      <th>Match Type</th>\n",
       "    </tr>\n",
       "  </thead>\n",
       "  <tbody>\n",
       "    <tr>\n",
       "      <th>0</th>\n",
       "      <td>11</td>\n",
       "      <td>NaN</td>\n",
       "      <td>NaN</td>\n",
       "      <td>0.0</td>\n",
       "      <td>NaN</td>\n",
       "      <td>6.0</td>\n",
       "      <td>LBW</td>\n",
       "      <td>1.0</td>\n",
       "      <td>Sri Lanka</td>\n",
       "      <td>Chandigarh</td>\n",
       "      <td>Chandigarh</td>\n",
       "      <td>India</td>\n",
       "      <td>Asia</td>\n",
       "      <td>1990-11-23</td>\n",
       "      <td>Test # 1156</td>\n",
       "      <td>Won</td>\n",
       "      <td>Home</td>\n",
       "      <td>Test</td>\n",
       "    </tr>\n",
       "    <tr>\n",
       "      <th>1</th>\n",
       "      <td>50</td>\n",
       "      <td>118.0</td>\n",
       "      <td>6.0</td>\n",
       "      <td>0.0</td>\n",
       "      <td>42.37</td>\n",
       "      <td>4.0</td>\n",
       "      <td>Caught</td>\n",
       "      <td>1.0</td>\n",
       "      <td>England</td>\n",
       "      <td>Kolkata</td>\n",
       "      <td>Kolkata</td>\n",
       "      <td>India</td>\n",
       "      <td>Asia</td>\n",
       "      <td>1993-01-29</td>\n",
       "      <td>Test # 1211</td>\n",
       "      <td>Won</td>\n",
       "      <td>Home</td>\n",
       "      <td>Test</td>\n",
       "    </tr>\n",
       "    <tr>\n",
       "      <th>2</th>\n",
       "      <td>9</td>\n",
       "      <td>19.0</td>\n",
       "      <td>2.0</td>\n",
       "      <td>0.0</td>\n",
       "      <td>47.36</td>\n",
       "      <td>4.0</td>\n",
       "      <td>Not Out</td>\n",
       "      <td>4.0</td>\n",
       "      <td>England</td>\n",
       "      <td>Kolkata</td>\n",
       "      <td>Kolkata</td>\n",
       "      <td>India</td>\n",
       "      <td>Asia</td>\n",
       "      <td>1993-01-29</td>\n",
       "      <td>Test # 1211</td>\n",
       "      <td>Won</td>\n",
       "      <td>Home</td>\n",
       "      <td>Test</td>\n",
       "    </tr>\n",
       "  </tbody>\n",
       "</table>\n",
       "</div>"
      ],
      "text/plain": [
       "   Runs     BF   4s   6s     SR  Pos Dismissal  Inns Opposition      Ground  \\\n",
       "0    11    NaN  NaN  0.0    NaN  6.0       LBW   1.0  Sri Lanka  Chandigarh   \n",
       "1    50  118.0  6.0  0.0  42.37  4.0    Caught   1.0    England     Kolkata   \n",
       "2     9   19.0  2.0  0.0  47.36  4.0   Not Out   4.0    England     Kolkata   \n",
       "\n",
       "     Location Country Continent Start Date Match Number Result  Mode  \\\n",
       "0  Chandigarh   India      Asia 1990-11-23  Test # 1156    Won  Home   \n",
       "1     Kolkata   India      Asia 1993-01-29  Test # 1211    Won  Home   \n",
       "2     Kolkata   India      Asia 1993-01-29  Test # 1211    Won  Home   \n",
       "\n",
       "  Match Type  \n",
       "0       Test  \n",
       "1       Test  \n",
       "2       Test  "
      ]
     },
     "execution_count": 17,
     "metadata": {},
     "output_type": "execute_result"
    }
   ],
   "source": [
    "stat.head(3)"
   ]
  },
  {
   "cell_type": "markdown",
   "metadata": {},
   "source": [
    "### we can find ball faced by this formula"
   ]
  },
  {
   "cell_type": "markdown",
   "metadata": {},
   "source": [
    "BF=100*Runs/SR"
   ]
  },
  {
   "cell_type": "markdown",
   "metadata": {},
   "source": [
    "SR as two SR (TEST or ODI)"
   ]
  },
  {
   "cell_type": "code",
   "execution_count": 18,
   "metadata": {
    "ExecuteTime": {
     "end_time": "2020-10-03T07:52:35.508930Z",
     "start_time": "2020-10-03T07:52:35.353346Z"
    }
   },
   "outputs": [],
   "source": [
    "strikerate=stat.groupby(\"Match Type\")[\"SR\"].mean()"
   ]
  },
  {
   "cell_type": "code",
   "execution_count": 19,
   "metadata": {
    "ExecuteTime": {
     "end_time": "2020-10-03T07:52:35.636590Z",
     "start_time": "2020-10-03T07:52:35.511923Z"
    }
   },
   "outputs": [
    {
     "data": {
      "text/plain": [
       "Match Type\n",
       "ODI     74.584093\n",
       "Test    52.038899\n",
       "Name: SR, dtype: float64"
      ]
     },
     "execution_count": 19,
     "metadata": {},
     "output_type": "execute_result"
    }
   ],
   "source": [
    "strikerate"
   ]
  },
  {
   "cell_type": "code",
   "execution_count": 20,
   "metadata": {
    "ExecuteTime": {
     "end_time": "2020-10-03T07:52:35.742305Z",
     "start_time": "2020-10-03T07:52:35.639581Z"
    }
   },
   "outputs": [],
   "source": [
    "#stat.loc[(stat[\"SR\"]==np.nan)&(stat[\"Match Type\"]==\"Test\"),\"SR\"]=52.038899"
   ]
  },
  {
   "cell_type": "code",
   "execution_count": 21,
   "metadata": {
    "ExecuteTime": {
     "end_time": "2020-10-03T07:52:35.854006Z",
     "start_time": "2020-10-03T07:52:35.745296Z"
    }
   },
   "outputs": [],
   "source": [
    "#stat.loc[(stat[\"SR\"]==np.nan)&(stat[\"Match Type\"]==\"ODI\"),\"SR\"]=74.584093"
   ]
  },
  {
   "cell_type": "code",
   "execution_count": 22,
   "metadata": {
    "ExecuteTime": {
     "end_time": "2020-10-03T07:52:36.004604Z",
     "start_time": "2020-10-03T07:52:35.857000Z"
    }
   },
   "outputs": [
    {
     "data": {
      "text/html": [
       "<div>\n",
       "<style scoped>\n",
       "    .dataframe tbody tr th:only-of-type {\n",
       "        vertical-align: middle;\n",
       "    }\n",
       "\n",
       "    .dataframe tbody tr th {\n",
       "        vertical-align: top;\n",
       "    }\n",
       "\n",
       "    .dataframe thead th {\n",
       "        text-align: right;\n",
       "    }\n",
       "</style>\n",
       "<table border=\"1\" class=\"dataframe\">\n",
       "  <thead>\n",
       "    <tr style=\"text-align: right;\">\n",
       "      <th></th>\n",
       "      <th>Runs</th>\n",
       "      <th>BF</th>\n",
       "      <th>4s</th>\n",
       "      <th>6s</th>\n",
       "      <th>SR</th>\n",
       "      <th>Pos</th>\n",
       "      <th>Dismissal</th>\n",
       "      <th>Inns</th>\n",
       "      <th>Opposition</th>\n",
       "      <th>Ground</th>\n",
       "      <th>Location</th>\n",
       "      <th>Country</th>\n",
       "      <th>Continent</th>\n",
       "      <th>Start Date</th>\n",
       "      <th>Match Number</th>\n",
       "      <th>Result</th>\n",
       "      <th>Mode</th>\n",
       "      <th>Match Type</th>\n",
       "    </tr>\n",
       "  </thead>\n",
       "  <tbody>\n",
       "    <tr>\n",
       "      <th>0</th>\n",
       "      <td>11</td>\n",
       "      <td>NaN</td>\n",
       "      <td>NaN</td>\n",
       "      <td>0.0</td>\n",
       "      <td>NaN</td>\n",
       "      <td>6.0</td>\n",
       "      <td>LBW</td>\n",
       "      <td>1.0</td>\n",
       "      <td>Sri Lanka</td>\n",
       "      <td>Chandigarh</td>\n",
       "      <td>Chandigarh</td>\n",
       "      <td>India</td>\n",
       "      <td>Asia</td>\n",
       "      <td>1990-11-23</td>\n",
       "      <td>Test # 1156</td>\n",
       "      <td>Won</td>\n",
       "      <td>Home</td>\n",
       "      <td>Test</td>\n",
       "    </tr>\n",
       "    <tr>\n",
       "      <th>14</th>\n",
       "      <td>0</td>\n",
       "      <td>0.0</td>\n",
       "      <td>0.0</td>\n",
       "      <td>0.0</td>\n",
       "      <td>NaN</td>\n",
       "      <td>4.0</td>\n",
       "      <td>Not Out</td>\n",
       "      <td>4.0</td>\n",
       "      <td>New Zealand</td>\n",
       "      <td>Bengaluru</td>\n",
       "      <td>Bengaluru</td>\n",
       "      <td>India</td>\n",
       "      <td>Asia</td>\n",
       "      <td>1995-10-18</td>\n",
       "      <td>Test # 1308</td>\n",
       "      <td>Won</td>\n",
       "      <td>Home</td>\n",
       "      <td>Test</td>\n",
       "    </tr>\n",
       "  </tbody>\n",
       "</table>\n",
       "</div>"
      ],
      "text/plain": [
       "    Runs   BF   4s   6s  SR  Pos Dismissal  Inns   Opposition      Ground  \\\n",
       "0     11  NaN  NaN  0.0 NaN  6.0       LBW   1.0    Sri Lanka  Chandigarh   \n",
       "14     0  0.0  0.0  0.0 NaN  4.0   Not Out   4.0  New Zealand   Bengaluru   \n",
       "\n",
       "      Location Country Continent Start Date Match Number Result  Mode  \\\n",
       "0   Chandigarh   India      Asia 1990-11-23  Test # 1156    Won  Home   \n",
       "14   Bengaluru   India      Asia 1995-10-18  Test # 1308    Won  Home   \n",
       "\n",
       "   Match Type  \n",
       "0        Test  \n",
       "14       Test  "
      ]
     },
     "execution_count": 22,
     "metadata": {},
     "output_type": "execute_result"
    }
   ],
   "source": [
    "stat[stat[\"SR\"].isnull()]"
   ]
  },
  {
   "cell_type": "code",
   "execution_count": 23,
   "metadata": {
    "ExecuteTime": {
     "end_time": "2020-10-03T07:52:36.189110Z",
     "start_time": "2020-10-03T07:52:36.014577Z"
    }
   },
   "outputs": [],
   "source": [
    "stat.loc[stat[\"SR\"].isnull(),\"SR\"]=52.038899"
   ]
  },
  {
   "cell_type": "code",
   "execution_count": 24,
   "metadata": {
    "ExecuteTime": {
     "end_time": "2020-10-03T07:52:36.373618Z",
     "start_time": "2020-10-03T07:52:36.194099Z"
    }
   },
   "outputs": [
    {
     "data": {
      "text/html": [
       "<div>\n",
       "<style scoped>\n",
       "    .dataframe tbody tr th:only-of-type {\n",
       "        vertical-align: middle;\n",
       "    }\n",
       "\n",
       "    .dataframe tbody tr th {\n",
       "        vertical-align: top;\n",
       "    }\n",
       "\n",
       "    .dataframe thead th {\n",
       "        text-align: right;\n",
       "    }\n",
       "</style>\n",
       "<table border=\"1\" class=\"dataframe\">\n",
       "  <thead>\n",
       "    <tr style=\"text-align: right;\">\n",
       "      <th></th>\n",
       "      <th>Runs</th>\n",
       "      <th>BF</th>\n",
       "      <th>4s</th>\n",
       "      <th>6s</th>\n",
       "      <th>SR</th>\n",
       "      <th>Pos</th>\n",
       "      <th>Dismissal</th>\n",
       "      <th>Inns</th>\n",
       "      <th>Opposition</th>\n",
       "      <th>Ground</th>\n",
       "      <th>Location</th>\n",
       "      <th>Country</th>\n",
       "      <th>Continent</th>\n",
       "      <th>Start Date</th>\n",
       "      <th>Match Number</th>\n",
       "      <th>Result</th>\n",
       "      <th>Mode</th>\n",
       "      <th>Match Type</th>\n",
       "    </tr>\n",
       "  </thead>\n",
       "  <tbody>\n",
       "    <tr>\n",
       "      <th>0</th>\n",
       "      <td>11</td>\n",
       "      <td>NaN</td>\n",
       "      <td>NaN</td>\n",
       "      <td>0.0</td>\n",
       "      <td>52.038899</td>\n",
       "      <td>6.0</td>\n",
       "      <td>LBW</td>\n",
       "      <td>1.0</td>\n",
       "      <td>Sri Lanka</td>\n",
       "      <td>Chandigarh</td>\n",
       "      <td>Chandigarh</td>\n",
       "      <td>India</td>\n",
       "      <td>Asia</td>\n",
       "      <td>1990-11-23</td>\n",
       "      <td>Test # 1156</td>\n",
       "      <td>Won</td>\n",
       "      <td>Home</td>\n",
       "      <td>Test</td>\n",
       "    </tr>\n",
       "    <tr>\n",
       "      <th>1</th>\n",
       "      <td>50</td>\n",
       "      <td>118.0</td>\n",
       "      <td>6.0</td>\n",
       "      <td>0.0</td>\n",
       "      <td>42.370000</td>\n",
       "      <td>4.0</td>\n",
       "      <td>Caught</td>\n",
       "      <td>1.0</td>\n",
       "      <td>England</td>\n",
       "      <td>Kolkata</td>\n",
       "      <td>Kolkata</td>\n",
       "      <td>India</td>\n",
       "      <td>Asia</td>\n",
       "      <td>1993-01-29</td>\n",
       "      <td>Test # 1211</td>\n",
       "      <td>Won</td>\n",
       "      <td>Home</td>\n",
       "      <td>Test</td>\n",
       "    </tr>\n",
       "    <tr>\n",
       "      <th>2</th>\n",
       "      <td>9</td>\n",
       "      <td>19.0</td>\n",
       "      <td>2.0</td>\n",
       "      <td>0.0</td>\n",
       "      <td>47.360000</td>\n",
       "      <td>4.0</td>\n",
       "      <td>Not Out</td>\n",
       "      <td>4.0</td>\n",
       "      <td>England</td>\n",
       "      <td>Kolkata</td>\n",
       "      <td>Kolkata</td>\n",
       "      <td>India</td>\n",
       "      <td>Asia</td>\n",
       "      <td>1993-01-29</td>\n",
       "      <td>Test # 1211</td>\n",
       "      <td>Won</td>\n",
       "      <td>Home</td>\n",
       "      <td>Test</td>\n",
       "    </tr>\n",
       "    <tr>\n",
       "      <th>3</th>\n",
       "      <td>165</td>\n",
       "      <td>296.0</td>\n",
       "      <td>24.0</td>\n",
       "      <td>1.0</td>\n",
       "      <td>55.740000</td>\n",
       "      <td>4.0</td>\n",
       "      <td>Caught</td>\n",
       "      <td>1.0</td>\n",
       "      <td>England</td>\n",
       "      <td>Chennai</td>\n",
       "      <td>Chennai</td>\n",
       "      <td>India</td>\n",
       "      <td>Asia</td>\n",
       "      <td>1993-02-11</td>\n",
       "      <td>Test # 1213</td>\n",
       "      <td>Won</td>\n",
       "      <td>Home</td>\n",
       "      <td>Test</td>\n",
       "    </tr>\n",
       "    <tr>\n",
       "      <th>4</th>\n",
       "      <td>78</td>\n",
       "      <td>213.0</td>\n",
       "      <td>10.0</td>\n",
       "      <td>0.0</td>\n",
       "      <td>36.610000</td>\n",
       "      <td>4.0</td>\n",
       "      <td>LBW</td>\n",
       "      <td>2.0</td>\n",
       "      <td>England</td>\n",
       "      <td>Mumbai</td>\n",
       "      <td>Mumbai</td>\n",
       "      <td>India</td>\n",
       "      <td>Asia</td>\n",
       "      <td>1993-02-19</td>\n",
       "      <td>Test # 1214</td>\n",
       "      <td>Won</td>\n",
       "      <td>Home</td>\n",
       "      <td>Test</td>\n",
       "    </tr>\n",
       "    <tr>\n",
       "      <th>...</th>\n",
       "      <td>...</td>\n",
       "      <td>...</td>\n",
       "      <td>...</td>\n",
       "      <td>...</td>\n",
       "      <td>...</td>\n",
       "      <td>...</td>\n",
       "      <td>...</td>\n",
       "      <td>...</td>\n",
       "      <td>...</td>\n",
       "      <td>...</td>\n",
       "      <td>...</td>\n",
       "      <td>...</td>\n",
       "      <td>...</td>\n",
       "      <td>...</td>\n",
       "      <td>...</td>\n",
       "      <td>...</td>\n",
       "      <td>...</td>\n",
       "      <td>...</td>\n",
       "    </tr>\n",
       "    <tr>\n",
       "      <th>814</th>\n",
       "      <td>14</td>\n",
       "      <td>15.0</td>\n",
       "      <td>2.0</td>\n",
       "      <td>0.0</td>\n",
       "      <td>93.330000</td>\n",
       "      <td>2.0</td>\n",
       "      <td>Run Out</td>\n",
       "      <td>2.0</td>\n",
       "      <td>Australia</td>\n",
       "      <td>Sydney</td>\n",
       "      <td>Sydney</td>\n",
       "      <td>Australia</td>\n",
       "      <td>Australia</td>\n",
       "      <td>2012-02-26</td>\n",
       "      <td>ODI # 3250</td>\n",
       "      <td>Lost</td>\n",
       "      <td>Away</td>\n",
       "      <td>ODI</td>\n",
       "    </tr>\n",
       "    <tr>\n",
       "      <th>815</th>\n",
       "      <td>39</td>\n",
       "      <td>30.0</td>\n",
       "      <td>5.0</td>\n",
       "      <td>0.0</td>\n",
       "      <td>130.000000</td>\n",
       "      <td>2.0</td>\n",
       "      <td>LBW</td>\n",
       "      <td>2.0</td>\n",
       "      <td>Sri Lanka</td>\n",
       "      <td>Hobart</td>\n",
       "      <td>Hobart</td>\n",
       "      <td>Australia</td>\n",
       "      <td>Australia</td>\n",
       "      <td>2012-02-28</td>\n",
       "      <td>ODI # 3251</td>\n",
       "      <td>Won</td>\n",
       "      <td>Away</td>\n",
       "      <td>ODI</td>\n",
       "    </tr>\n",
       "    <tr>\n",
       "      <th>816</th>\n",
       "      <td>6</td>\n",
       "      <td>19.0</td>\n",
       "      <td>1.0</td>\n",
       "      <td>0.0</td>\n",
       "      <td>31.570000</td>\n",
       "      <td>2.0</td>\n",
       "      <td>Caught</td>\n",
       "      <td>1.0</td>\n",
       "      <td>Sri Lanka</td>\n",
       "      <td>Dhaka</td>\n",
       "      <td>Dhaka</td>\n",
       "      <td>Bangladesh</td>\n",
       "      <td>Asia</td>\n",
       "      <td>2012-03-13</td>\n",
       "      <td>ODI # 3259</td>\n",
       "      <td>Won</td>\n",
       "      <td>Away</td>\n",
       "      <td>ODI</td>\n",
       "    </tr>\n",
       "    <tr>\n",
       "      <th>817</th>\n",
       "      <td>114</td>\n",
       "      <td>147.0</td>\n",
       "      <td>12.0</td>\n",
       "      <td>1.0</td>\n",
       "      <td>77.550000</td>\n",
       "      <td>2.0</td>\n",
       "      <td>Caught</td>\n",
       "      <td>1.0</td>\n",
       "      <td>Bangladesh</td>\n",
       "      <td>Dhaka</td>\n",
       "      <td>Dhaka</td>\n",
       "      <td>Bangladesh</td>\n",
       "      <td>Asia</td>\n",
       "      <td>2012-03-16</td>\n",
       "      <td>ODI # 3261</td>\n",
       "      <td>Lost</td>\n",
       "      <td>Away</td>\n",
       "      <td>ODI</td>\n",
       "    </tr>\n",
       "    <tr>\n",
       "      <th>818</th>\n",
       "      <td>52</td>\n",
       "      <td>48.0</td>\n",
       "      <td>5.0</td>\n",
       "      <td>1.0</td>\n",
       "      <td>108.330000</td>\n",
       "      <td>2.0</td>\n",
       "      <td>Caught</td>\n",
       "      <td>2.0</td>\n",
       "      <td>Pakistan</td>\n",
       "      <td>Dhaka</td>\n",
       "      <td>Dhaka</td>\n",
       "      <td>Bangladesh</td>\n",
       "      <td>Asia</td>\n",
       "      <td>2012-03-18</td>\n",
       "      <td>ODI # 3263</td>\n",
       "      <td>Won</td>\n",
       "      <td>Away</td>\n",
       "      <td>ODI</td>\n",
       "    </tr>\n",
       "  </tbody>\n",
       "</table>\n",
       "<p>790 rows × 18 columns</p>\n",
       "</div>"
      ],
      "text/plain": [
       "     Runs     BF    4s   6s          SR  Pos Dismissal  Inns  Opposition  \\\n",
       "0      11    NaN   NaN  0.0   52.038899  6.0       LBW   1.0   Sri Lanka   \n",
       "1      50  118.0   6.0  0.0   42.370000  4.0    Caught   1.0     England   \n",
       "2       9   19.0   2.0  0.0   47.360000  4.0   Not Out   4.0     England   \n",
       "3     165  296.0  24.0  1.0   55.740000  4.0    Caught   1.0     England   \n",
       "4      78  213.0  10.0  0.0   36.610000  4.0       LBW   2.0     England   \n",
       "..    ...    ...   ...  ...         ...  ...       ...   ...         ...   \n",
       "814    14   15.0   2.0  0.0   93.330000  2.0   Run Out   2.0   Australia   \n",
       "815    39   30.0   5.0  0.0  130.000000  2.0       LBW   2.0   Sri Lanka   \n",
       "816     6   19.0   1.0  0.0   31.570000  2.0    Caught   1.0   Sri Lanka   \n",
       "817   114  147.0  12.0  1.0   77.550000  2.0    Caught   1.0  Bangladesh   \n",
       "818    52   48.0   5.0  1.0  108.330000  2.0    Caught   2.0    Pakistan   \n",
       "\n",
       "         Ground    Location     Country  Continent Start Date Match Number  \\\n",
       "0    Chandigarh  Chandigarh       India       Asia 1990-11-23  Test # 1156   \n",
       "1       Kolkata     Kolkata       India       Asia 1993-01-29  Test # 1211   \n",
       "2       Kolkata     Kolkata       India       Asia 1993-01-29  Test # 1211   \n",
       "3       Chennai     Chennai       India       Asia 1993-02-11  Test # 1213   \n",
       "4        Mumbai      Mumbai       India       Asia 1993-02-19  Test # 1214   \n",
       "..          ...         ...         ...        ...        ...          ...   \n",
       "814      Sydney      Sydney   Australia  Australia 2012-02-26   ODI # 3250   \n",
       "815      Hobart      Hobart   Australia  Australia 2012-02-28   ODI # 3251   \n",
       "816       Dhaka       Dhaka  Bangladesh       Asia 2012-03-13   ODI # 3259   \n",
       "817       Dhaka       Dhaka  Bangladesh       Asia 2012-03-16   ODI # 3261   \n",
       "818       Dhaka       Dhaka  Bangladesh       Asia 2012-03-18   ODI # 3263   \n",
       "\n",
       "    Result  Mode Match Type  \n",
       "0      Won  Home       Test  \n",
       "1      Won  Home       Test  \n",
       "2      Won  Home       Test  \n",
       "3      Won  Home       Test  \n",
       "4      Won  Home       Test  \n",
       "..     ...   ...        ...  \n",
       "814   Lost  Away        ODI  \n",
       "815    Won  Away        ODI  \n",
       "816    Won  Away        ODI  \n",
       "817   Lost  Away        ODI  \n",
       "818    Won  Away        ODI  \n",
       "\n",
       "[790 rows x 18 columns]"
      ]
     },
     "execution_count": 24,
     "metadata": {},
     "output_type": "execute_result"
    }
   ],
   "source": [
    "stat"
   ]
  },
  {
   "cell_type": "code",
   "execution_count": 25,
   "metadata": {
    "ExecuteTime": {
     "end_time": "2020-10-03T07:52:36.499281Z",
     "start_time": "2020-10-03T07:52:36.376611Z"
    }
   },
   "outputs": [],
   "source": [
    "def ball(x): \n",
    "    if x[\"SR\"]==0.0:\n",
    "        return x[\"BF\"]\n",
    "    x[\"BF\"]=100*x[\"Runs\"]/x[\"SR\"]\n",
    "    return int(x[\"BF\"])\n",
    "    "
   ]
  },
  {
   "cell_type": "code",
   "execution_count": 26,
   "metadata": {
    "ExecuteTime": {
     "end_time": "2020-10-03T07:52:36.891231Z",
     "start_time": "2020-10-03T07:52:36.502273Z"
    }
   },
   "outputs": [],
   "source": [
    "stat[\"BF\"]=stat.apply(ball,axis=1)"
   ]
  },
  {
   "cell_type": "code",
   "execution_count": 27,
   "metadata": {
    "ExecuteTime": {
     "end_time": "2020-10-03T07:52:36.951072Z",
     "start_time": "2020-10-03T07:52:36.894227Z"
    }
   },
   "outputs": [
    {
     "data": {
      "text/html": [
       "<div>\n",
       "<style scoped>\n",
       "    .dataframe tbody tr th:only-of-type {\n",
       "        vertical-align: middle;\n",
       "    }\n",
       "\n",
       "    .dataframe tbody tr th {\n",
       "        vertical-align: top;\n",
       "    }\n",
       "\n",
       "    .dataframe thead th {\n",
       "        text-align: right;\n",
       "    }\n",
       "</style>\n",
       "<table border=\"1\" class=\"dataframe\">\n",
       "  <thead>\n",
       "    <tr style=\"text-align: right;\">\n",
       "      <th></th>\n",
       "      <th>Runs</th>\n",
       "      <th>BF</th>\n",
       "      <th>4s</th>\n",
       "      <th>6s</th>\n",
       "      <th>SR</th>\n",
       "      <th>Pos</th>\n",
       "      <th>Dismissal</th>\n",
       "      <th>Inns</th>\n",
       "      <th>Opposition</th>\n",
       "      <th>Ground</th>\n",
       "      <th>Location</th>\n",
       "      <th>Country</th>\n",
       "      <th>Continent</th>\n",
       "      <th>Start Date</th>\n",
       "      <th>Match Number</th>\n",
       "      <th>Result</th>\n",
       "      <th>Mode</th>\n",
       "      <th>Match Type</th>\n",
       "    </tr>\n",
       "  </thead>\n",
       "  <tbody>\n",
       "    <tr>\n",
       "      <th>0</th>\n",
       "      <td>11</td>\n",
       "      <td>21.0</td>\n",
       "      <td>NaN</td>\n",
       "      <td>0.0</td>\n",
       "      <td>52.038899</td>\n",
       "      <td>6.0</td>\n",
       "      <td>LBW</td>\n",
       "      <td>1.0</td>\n",
       "      <td>Sri Lanka</td>\n",
       "      <td>Chandigarh</td>\n",
       "      <td>Chandigarh</td>\n",
       "      <td>India</td>\n",
       "      <td>Asia</td>\n",
       "      <td>1990-11-23</td>\n",
       "      <td>Test # 1156</td>\n",
       "      <td>Won</td>\n",
       "      <td>Home</td>\n",
       "      <td>Test</td>\n",
       "    </tr>\n",
       "    <tr>\n",
       "      <th>1</th>\n",
       "      <td>50</td>\n",
       "      <td>118.0</td>\n",
       "      <td>6.0</td>\n",
       "      <td>0.0</td>\n",
       "      <td>42.370000</td>\n",
       "      <td>4.0</td>\n",
       "      <td>Caught</td>\n",
       "      <td>1.0</td>\n",
       "      <td>England</td>\n",
       "      <td>Kolkata</td>\n",
       "      <td>Kolkata</td>\n",
       "      <td>India</td>\n",
       "      <td>Asia</td>\n",
       "      <td>1993-01-29</td>\n",
       "      <td>Test # 1211</td>\n",
       "      <td>Won</td>\n",
       "      <td>Home</td>\n",
       "      <td>Test</td>\n",
       "    </tr>\n",
       "    <tr>\n",
       "      <th>2</th>\n",
       "      <td>9</td>\n",
       "      <td>19.0</td>\n",
       "      <td>2.0</td>\n",
       "      <td>0.0</td>\n",
       "      <td>47.360000</td>\n",
       "      <td>4.0</td>\n",
       "      <td>Not Out</td>\n",
       "      <td>4.0</td>\n",
       "      <td>England</td>\n",
       "      <td>Kolkata</td>\n",
       "      <td>Kolkata</td>\n",
       "      <td>India</td>\n",
       "      <td>Asia</td>\n",
       "      <td>1993-01-29</td>\n",
       "      <td>Test # 1211</td>\n",
       "      <td>Won</td>\n",
       "      <td>Home</td>\n",
       "      <td>Test</td>\n",
       "    </tr>\n",
       "    <tr>\n",
       "      <th>3</th>\n",
       "      <td>165</td>\n",
       "      <td>296.0</td>\n",
       "      <td>24.0</td>\n",
       "      <td>1.0</td>\n",
       "      <td>55.740000</td>\n",
       "      <td>4.0</td>\n",
       "      <td>Caught</td>\n",
       "      <td>1.0</td>\n",
       "      <td>England</td>\n",
       "      <td>Chennai</td>\n",
       "      <td>Chennai</td>\n",
       "      <td>India</td>\n",
       "      <td>Asia</td>\n",
       "      <td>1993-02-11</td>\n",
       "      <td>Test # 1213</td>\n",
       "      <td>Won</td>\n",
       "      <td>Home</td>\n",
       "      <td>Test</td>\n",
       "    </tr>\n",
       "    <tr>\n",
       "      <th>4</th>\n",
       "      <td>78</td>\n",
       "      <td>213.0</td>\n",
       "      <td>10.0</td>\n",
       "      <td>0.0</td>\n",
       "      <td>36.610000</td>\n",
       "      <td>4.0</td>\n",
       "      <td>LBW</td>\n",
       "      <td>2.0</td>\n",
       "      <td>England</td>\n",
       "      <td>Mumbai</td>\n",
       "      <td>Mumbai</td>\n",
       "      <td>India</td>\n",
       "      <td>Asia</td>\n",
       "      <td>1993-02-19</td>\n",
       "      <td>Test # 1214</td>\n",
       "      <td>Won</td>\n",
       "      <td>Home</td>\n",
       "      <td>Test</td>\n",
       "    </tr>\n",
       "    <tr>\n",
       "      <th>...</th>\n",
       "      <td>...</td>\n",
       "      <td>...</td>\n",
       "      <td>...</td>\n",
       "      <td>...</td>\n",
       "      <td>...</td>\n",
       "      <td>...</td>\n",
       "      <td>...</td>\n",
       "      <td>...</td>\n",
       "      <td>...</td>\n",
       "      <td>...</td>\n",
       "      <td>...</td>\n",
       "      <td>...</td>\n",
       "      <td>...</td>\n",
       "      <td>...</td>\n",
       "      <td>...</td>\n",
       "      <td>...</td>\n",
       "      <td>...</td>\n",
       "      <td>...</td>\n",
       "    </tr>\n",
       "    <tr>\n",
       "      <th>814</th>\n",
       "      <td>14</td>\n",
       "      <td>15.0</td>\n",
       "      <td>2.0</td>\n",
       "      <td>0.0</td>\n",
       "      <td>93.330000</td>\n",
       "      <td>2.0</td>\n",
       "      <td>Run Out</td>\n",
       "      <td>2.0</td>\n",
       "      <td>Australia</td>\n",
       "      <td>Sydney</td>\n",
       "      <td>Sydney</td>\n",
       "      <td>Australia</td>\n",
       "      <td>Australia</td>\n",
       "      <td>2012-02-26</td>\n",
       "      <td>ODI # 3250</td>\n",
       "      <td>Lost</td>\n",
       "      <td>Away</td>\n",
       "      <td>ODI</td>\n",
       "    </tr>\n",
       "    <tr>\n",
       "      <th>815</th>\n",
       "      <td>39</td>\n",
       "      <td>30.0</td>\n",
       "      <td>5.0</td>\n",
       "      <td>0.0</td>\n",
       "      <td>130.000000</td>\n",
       "      <td>2.0</td>\n",
       "      <td>LBW</td>\n",
       "      <td>2.0</td>\n",
       "      <td>Sri Lanka</td>\n",
       "      <td>Hobart</td>\n",
       "      <td>Hobart</td>\n",
       "      <td>Australia</td>\n",
       "      <td>Australia</td>\n",
       "      <td>2012-02-28</td>\n",
       "      <td>ODI # 3251</td>\n",
       "      <td>Won</td>\n",
       "      <td>Away</td>\n",
       "      <td>ODI</td>\n",
       "    </tr>\n",
       "    <tr>\n",
       "      <th>816</th>\n",
       "      <td>6</td>\n",
       "      <td>19.0</td>\n",
       "      <td>1.0</td>\n",
       "      <td>0.0</td>\n",
       "      <td>31.570000</td>\n",
       "      <td>2.0</td>\n",
       "      <td>Caught</td>\n",
       "      <td>1.0</td>\n",
       "      <td>Sri Lanka</td>\n",
       "      <td>Dhaka</td>\n",
       "      <td>Dhaka</td>\n",
       "      <td>Bangladesh</td>\n",
       "      <td>Asia</td>\n",
       "      <td>2012-03-13</td>\n",
       "      <td>ODI # 3259</td>\n",
       "      <td>Won</td>\n",
       "      <td>Away</td>\n",
       "      <td>ODI</td>\n",
       "    </tr>\n",
       "    <tr>\n",
       "      <th>817</th>\n",
       "      <td>114</td>\n",
       "      <td>147.0</td>\n",
       "      <td>12.0</td>\n",
       "      <td>1.0</td>\n",
       "      <td>77.550000</td>\n",
       "      <td>2.0</td>\n",
       "      <td>Caught</td>\n",
       "      <td>1.0</td>\n",
       "      <td>Bangladesh</td>\n",
       "      <td>Dhaka</td>\n",
       "      <td>Dhaka</td>\n",
       "      <td>Bangladesh</td>\n",
       "      <td>Asia</td>\n",
       "      <td>2012-03-16</td>\n",
       "      <td>ODI # 3261</td>\n",
       "      <td>Lost</td>\n",
       "      <td>Away</td>\n",
       "      <td>ODI</td>\n",
       "    </tr>\n",
       "    <tr>\n",
       "      <th>818</th>\n",
       "      <td>52</td>\n",
       "      <td>48.0</td>\n",
       "      <td>5.0</td>\n",
       "      <td>1.0</td>\n",
       "      <td>108.330000</td>\n",
       "      <td>2.0</td>\n",
       "      <td>Caught</td>\n",
       "      <td>2.0</td>\n",
       "      <td>Pakistan</td>\n",
       "      <td>Dhaka</td>\n",
       "      <td>Dhaka</td>\n",
       "      <td>Bangladesh</td>\n",
       "      <td>Asia</td>\n",
       "      <td>2012-03-18</td>\n",
       "      <td>ODI # 3263</td>\n",
       "      <td>Won</td>\n",
       "      <td>Away</td>\n",
       "      <td>ODI</td>\n",
       "    </tr>\n",
       "  </tbody>\n",
       "</table>\n",
       "<p>790 rows × 18 columns</p>\n",
       "</div>"
      ],
      "text/plain": [
       "     Runs     BF    4s   6s          SR  Pos Dismissal  Inns  Opposition  \\\n",
       "0      11   21.0   NaN  0.0   52.038899  6.0       LBW   1.0   Sri Lanka   \n",
       "1      50  118.0   6.0  0.0   42.370000  4.0    Caught   1.0     England   \n",
       "2       9   19.0   2.0  0.0   47.360000  4.0   Not Out   4.0     England   \n",
       "3     165  296.0  24.0  1.0   55.740000  4.0    Caught   1.0     England   \n",
       "4      78  213.0  10.0  0.0   36.610000  4.0       LBW   2.0     England   \n",
       "..    ...    ...   ...  ...         ...  ...       ...   ...         ...   \n",
       "814    14   15.0   2.0  0.0   93.330000  2.0   Run Out   2.0   Australia   \n",
       "815    39   30.0   5.0  0.0  130.000000  2.0       LBW   2.0   Sri Lanka   \n",
       "816     6   19.0   1.0  0.0   31.570000  2.0    Caught   1.0   Sri Lanka   \n",
       "817   114  147.0  12.0  1.0   77.550000  2.0    Caught   1.0  Bangladesh   \n",
       "818    52   48.0   5.0  1.0  108.330000  2.0    Caught   2.0    Pakistan   \n",
       "\n",
       "         Ground    Location     Country  Continent Start Date Match Number  \\\n",
       "0    Chandigarh  Chandigarh       India       Asia 1990-11-23  Test # 1156   \n",
       "1       Kolkata     Kolkata       India       Asia 1993-01-29  Test # 1211   \n",
       "2       Kolkata     Kolkata       India       Asia 1993-01-29  Test # 1211   \n",
       "3       Chennai     Chennai       India       Asia 1993-02-11  Test # 1213   \n",
       "4        Mumbai      Mumbai       India       Asia 1993-02-19  Test # 1214   \n",
       "..          ...         ...         ...        ...        ...          ...   \n",
       "814      Sydney      Sydney   Australia  Australia 2012-02-26   ODI # 3250   \n",
       "815      Hobart      Hobart   Australia  Australia 2012-02-28   ODI # 3251   \n",
       "816       Dhaka       Dhaka  Bangladesh       Asia 2012-03-13   ODI # 3259   \n",
       "817       Dhaka       Dhaka  Bangladesh       Asia 2012-03-16   ODI # 3261   \n",
       "818       Dhaka       Dhaka  Bangladesh       Asia 2012-03-18   ODI # 3263   \n",
       "\n",
       "    Result  Mode Match Type  \n",
       "0      Won  Home       Test  \n",
       "1      Won  Home       Test  \n",
       "2      Won  Home       Test  \n",
       "3      Won  Home       Test  \n",
       "4      Won  Home       Test  \n",
       "..     ...   ...        ...  \n",
       "814   Lost  Away        ODI  \n",
       "815    Won  Away        ODI  \n",
       "816    Won  Away        ODI  \n",
       "817   Lost  Away        ODI  \n",
       "818    Won  Away        ODI  \n",
       "\n",
       "[790 rows x 18 columns]"
      ]
     },
     "execution_count": 27,
     "metadata": {},
     "output_type": "execute_result"
    }
   ],
   "source": [
    "stat"
   ]
  },
  {
   "cell_type": "code",
   "execution_count": 28,
   "metadata": {
    "ExecuteTime": {
     "end_time": "2020-10-03T07:52:37.069756Z",
     "start_time": "2020-10-03T07:52:36.954065Z"
    }
   },
   "outputs": [
    {
     "name": "stdout",
     "output_type": "stream",
     "text": [
      "<class 'pandas.core.frame.DataFrame'>\n",
      "Int64Index: 790 entries, 0 to 818\n",
      "Data columns (total 18 columns):\n",
      " #   Column        Non-Null Count  Dtype         \n",
      "---  ------        --------------  -----         \n",
      " 0   Runs          790 non-null    int32         \n",
      " 1   BF            790 non-null    float64       \n",
      " 2   4s            789 non-null    float64       \n",
      " 3   6s            790 non-null    float64       \n",
      " 4   SR            790 non-null    float64       \n",
      " 5   Pos           790 non-null    float64       \n",
      " 6   Dismissal     790 non-null    object        \n",
      " 7   Inns          790 non-null    float64       \n",
      " 8   Opposition    790 non-null    object        \n",
      " 9   Ground        790 non-null    object        \n",
      " 10  Location      790 non-null    object        \n",
      " 11  Country       790 non-null    object        \n",
      " 12  Continent     790 non-null    object        \n",
      " 13  Start Date    790 non-null    datetime64[ns]\n",
      " 14  Match Number  790 non-null    object        \n",
      " 15  Result        790 non-null    object        \n",
      " 16  Mode          790 non-null    object        \n",
      " 17  Match Type    790 non-null    object        \n",
      "dtypes: datetime64[ns](1), float64(6), int32(1), object(10)\n",
      "memory usage: 114.2+ KB\n"
     ]
    }
   ],
   "source": [
    "stat.info()"
   ]
  },
  {
   "cell_type": "code",
   "execution_count": 29,
   "metadata": {
    "ExecuteTime": {
     "end_time": "2020-10-03T07:52:37.192427Z",
     "start_time": "2020-10-03T07:52:37.072748Z"
    }
   },
   "outputs": [],
   "source": [
    "stat=stat.fillna(0)"
   ]
  },
  {
   "cell_type": "code",
   "execution_count": 30,
   "metadata": {
    "ExecuteTime": {
     "end_time": "2020-10-03T07:52:37.313105Z",
     "start_time": "2020-10-03T07:52:37.195421Z"
    }
   },
   "outputs": [
    {
     "name": "stdout",
     "output_type": "stream",
     "text": [
      "<class 'pandas.core.frame.DataFrame'>\n",
      "Int64Index: 790 entries, 0 to 818\n",
      "Data columns (total 18 columns):\n",
      " #   Column        Non-Null Count  Dtype         \n",
      "---  ------        --------------  -----         \n",
      " 0   Runs          790 non-null    int32         \n",
      " 1   BF            790 non-null    float64       \n",
      " 2   4s            790 non-null    float64       \n",
      " 3   6s            790 non-null    float64       \n",
      " 4   SR            790 non-null    float64       \n",
      " 5   Pos           790 non-null    float64       \n",
      " 6   Dismissal     790 non-null    object        \n",
      " 7   Inns          790 non-null    float64       \n",
      " 8   Opposition    790 non-null    object        \n",
      " 9   Ground        790 non-null    object        \n",
      " 10  Location      790 non-null    object        \n",
      " 11  Country       790 non-null    object        \n",
      " 12  Continent     790 non-null    object        \n",
      " 13  Start Date    790 non-null    datetime64[ns]\n",
      " 14  Match Number  790 non-null    object        \n",
      " 15  Result        790 non-null    object        \n",
      " 16  Mode          790 non-null    object        \n",
      " 17  Match Type    790 non-null    object        \n",
      "dtypes: datetime64[ns](1), float64(6), int32(1), object(10)\n",
      "memory usage: 114.2+ KB\n"
     ]
    }
   ],
   "source": [
    "stat.info()"
   ]
  },
  {
   "cell_type": "code",
   "execution_count": 31,
   "metadata": {
    "ExecuteTime": {
     "end_time": "2020-10-03T07:52:37.409846Z",
     "start_time": "2020-10-03T07:52:37.316099Z"
    }
   },
   "outputs": [],
   "source": [
    "#stat.dropna(inplace=True) we can use it as no of null values are very less"
   ]
  },
  {
   "cell_type": "code",
   "execution_count": 32,
   "metadata": {
    "ExecuteTime": {
     "end_time": "2020-10-03T07:52:37.516562Z",
     "start_time": "2020-10-03T07:52:37.412840Z"
    }
   },
   "outputs": [
    {
     "data": {
      "text/plain": [
       "Caught             427\n",
       "Bowled             122\n",
       "LBW                102\n",
       "Not Out             73\n",
       "Run Out             43\n",
       "Stumped             12\n",
       "caught               3\n",
       "lbw                  3\n",
       "Hit Wicket           1\n",
       "not out              1\n",
       "bowled               1\n",
       "Retired Not Out      1\n",
       "run out              1\n",
       "Name: Dismissal, dtype: int64"
      ]
     },
     "execution_count": 32,
     "metadata": {},
     "output_type": "execute_result"
    }
   ],
   "source": [
    "stat[\"Dismissal\"].value_counts() #repeat names for same things"
   ]
  },
  {
   "cell_type": "code",
   "execution_count": 33,
   "metadata": {
    "ExecuteTime": {
     "end_time": "2020-10-03T07:52:37.632251Z",
     "start_time": "2020-10-03T07:52:37.519553Z"
    }
   },
   "outputs": [],
   "source": [
    "def change_method(x): \n",
    "    d={\"lbw\":\"LBW\",\"caught\":\"Caught\",\"bowled\":\"Bowled\",\"run out\":\"Run Out\",\"not out\":\"Not Out\",\"Retired Not Out\":\"Not Out\"}\n",
    "    if x in d.keys():\n",
    "        return d[x]\n",
    "    else:\n",
    "        return x"
   ]
  },
  {
   "cell_type": "code",
   "execution_count": 34,
   "metadata": {
    "ExecuteTime": {
     "end_time": "2020-10-03T07:52:37.766890Z",
     "start_time": "2020-10-03T07:52:37.635243Z"
    }
   },
   "outputs": [],
   "source": [
    "stat[\"Dismissal\"]=stat[\"Dismissal\"].apply(change_method)"
   ]
  },
  {
   "cell_type": "code",
   "execution_count": 35,
   "metadata": {
    "ExecuteTime": {
     "end_time": "2020-10-03T07:52:37.882585Z",
     "start_time": "2020-10-03T07:52:37.769883Z"
    }
   },
   "outputs": [
    {
     "data": {
      "text/plain": [
       "Caught        430\n",
       "Bowled        123\n",
       "LBW           105\n",
       "Not Out        75\n",
       "Run Out        44\n",
       "Stumped        12\n",
       "Hit Wicket      1\n",
       "Name: Dismissal, dtype: int64"
      ]
     },
     "execution_count": 35,
     "metadata": {},
     "output_type": "execute_result"
    }
   ],
   "source": [
    "stat[\"Dismissal\"].value_counts()"
   ]
  },
  {
   "cell_type": "code",
   "execution_count": 36,
   "metadata": {
    "ExecuteTime": {
     "end_time": "2020-10-03T07:52:38.005255Z",
     "start_time": "2020-10-03T07:52:37.885576Z"
    }
   },
   "outputs": [
    {
     "data": {
      "text/plain": [
       "Won          353\n",
       "Lost         198\n",
       "Loss         114\n",
       "Drawn        104\n",
       "No Result     16\n",
       "Tied           5\n",
       "Name: Result, dtype: int64"
      ]
     },
     "execution_count": 36,
     "metadata": {},
     "output_type": "execute_result"
    }
   ],
   "source": [
    "stat[\"Result\"].value_counts()"
   ]
  },
  {
   "cell_type": "code",
   "execution_count": 37,
   "metadata": {
    "ExecuteTime": {
     "end_time": "2020-10-03T07:52:38.120945Z",
     "start_time": "2020-10-03T07:52:38.008247Z"
    }
   },
   "outputs": [],
   "source": [
    "def change_result(x): \n",
    "    d={\"Loss\":\"Lost\"}\n",
    "    if x in d.keys():\n",
    "        return d[x]\n",
    "    else:\n",
    "        return x"
   ]
  },
  {
   "cell_type": "code",
   "execution_count": 38,
   "metadata": {
    "ExecuteTime": {
     "end_time": "2020-10-03T07:52:38.233643Z",
     "start_time": "2020-10-03T07:52:38.123938Z"
    }
   },
   "outputs": [],
   "source": [
    "stat[\"Result\"]=stat[\"Result\"].apply(change_result)"
   ]
  },
  {
   "cell_type": "code",
   "execution_count": 39,
   "metadata": {
    "ExecuteTime": {
     "end_time": "2020-10-03T07:52:38.359307Z",
     "start_time": "2020-10-03T07:52:38.236635Z"
    }
   },
   "outputs": [
    {
     "data": {
      "text/plain": [
       "Won          353\n",
       "Lost         312\n",
       "Drawn        104\n",
       "No Result     16\n",
       "Tied           5\n",
       "Name: Result, dtype: int64"
      ]
     },
     "execution_count": 39,
     "metadata": {},
     "output_type": "execute_result"
    }
   ],
   "source": [
    "stat[\"Result\"].value_counts()"
   ]
  },
  {
   "cell_type": "code",
   "execution_count": 40,
   "metadata": {
    "ExecuteTime": {
     "end_time": "2020-10-03T07:52:38.482976Z",
     "start_time": "2020-10-03T07:52:38.362299Z"
    }
   },
   "outputs": [
    {
     "data": {
      "text/plain": [
       "Australia       151\n",
       "Sri Lanka       116\n",
       "South Africa    102\n",
       "Pakistan         94\n",
       "England          90\n",
       "New Zealand      80\n",
       "West Indies      73\n",
       "Zimbabwe         47\n",
       "Bangladesh       20\n",
       "Kenya             9\n",
       "Ireland           2\n",
       "Netherlands       2\n",
       "U.A.E.            2\n",
       "Namibia           1\n",
       "Bermuda           1\n",
       "Name: Opposition, dtype: int64"
      ]
     },
     "execution_count": 40,
     "metadata": {},
     "output_type": "execute_result"
    }
   ],
   "source": [
    "stat[\"Opposition\"].value_counts()"
   ]
  },
  {
   "cell_type": "code",
   "execution_count": 41,
   "metadata": {
    "ExecuteTime": {
     "end_time": "2020-10-03T07:52:38.605648Z",
     "start_time": "2020-10-03T07:52:38.485969Z"
    }
   },
   "outputs": [
    {
     "data": {
      "text/plain": [
       "Sharjah             42\n",
       "Kolkata             34\n",
       "Mumbai              31\n",
       "Delhi               29\n",
       "Colombo (RPS)       27\n",
       "                    ..\n",
       "Hove                 1\n",
       "Hyderabad (Sind)     1\n",
       "Canberra             1\n",
       "Taupo                1\n",
       "Southampton          1\n",
       "Name: Ground, Length: 96, dtype: int64"
      ]
     },
     "execution_count": 41,
     "metadata": {},
     "output_type": "execute_result"
    }
   ],
   "source": [
    "stat[\"Ground\"].value_counts()"
   ]
  },
  {
   "cell_type": "code",
   "execution_count": 42,
   "metadata": {
    "ExecuteTime": {
     "end_time": "2020-10-03T07:52:38.716353Z",
     "start_time": "2020-10-03T07:52:38.608640Z"
    }
   },
   "outputs": [
    {
     "data": {
      "text/plain": [
       "India                  322\n",
       "Australia               84\n",
       "South Africa            66\n",
       "Sri Lanka               60\n",
       "England                 56\n",
       "UAE                     42\n",
       "New Zealand             40\n",
       "Pakistan                26\n",
       "Bangladesh              25\n",
       "Zimbabwe                18\n",
       "Canada                  11\n",
       "Trinidad and Tobago      9\n",
       "Barbadose                6\n",
       "Singapore                5\n",
       "Kenya                    4\n",
       "Jamaica                  4\n",
       "Ireland                  4\n",
       "Malaysia                 4\n",
       "Guyana                   2\n",
       "Saint Vincent            1\n",
       "Antigua                  1\n",
       "Name: Country, dtype: int64"
      ]
     },
     "execution_count": 42,
     "metadata": {},
     "output_type": "execute_result"
    }
   ],
   "source": [
    "stat[\"Country\"].value_counts()"
   ]
  },
  {
   "cell_type": "code",
   "execution_count": 43,
   "metadata": {
    "ExecuteTime": {
     "end_time": "2020-10-03T07:52:38.846006Z",
     "start_time": "2020-10-03T07:52:38.719346Z"
    }
   },
   "outputs": [
    {
     "name": "stdout",
     "output_type": "stream",
     "text": [
      "<class 'pandas.core.frame.DataFrame'>\n",
      "Int64Index: 790 entries, 0 to 818\n",
      "Data columns (total 18 columns):\n",
      " #   Column        Non-Null Count  Dtype         \n",
      "---  ------        --------------  -----         \n",
      " 0   Runs          790 non-null    int32         \n",
      " 1   BF            790 non-null    float64       \n",
      " 2   4s            790 non-null    float64       \n",
      " 3   6s            790 non-null    float64       \n",
      " 4   SR            790 non-null    float64       \n",
      " 5   Pos           790 non-null    float64       \n",
      " 6   Dismissal     790 non-null    object        \n",
      " 7   Inns          790 non-null    float64       \n",
      " 8   Opposition    790 non-null    object        \n",
      " 9   Ground        790 non-null    object        \n",
      " 10  Location      790 non-null    object        \n",
      " 11  Country       790 non-null    object        \n",
      " 12  Continent     790 non-null    object        \n",
      " 13  Start Date    790 non-null    datetime64[ns]\n",
      " 14  Match Number  790 non-null    object        \n",
      " 15  Result        790 non-null    object        \n",
      " 16  Mode          790 non-null    object        \n",
      " 17  Match Type    790 non-null    object        \n",
      "dtypes: datetime64[ns](1), float64(6), int32(1), object(10)\n",
      "memory usage: 114.2+ KB\n"
     ]
    }
   ],
   "source": [
    "stat.info()"
   ]
  },
  {
   "cell_type": "code",
   "execution_count": 44,
   "metadata": {
    "ExecuteTime": {
     "end_time": "2020-10-03T07:52:38.978650Z",
     "start_time": "2020-10-03T07:52:38.848998Z"
    }
   },
   "outputs": [],
   "source": [
    "stat.drop([\"Location\",\"Continent\",\"Match Number\"],axis=1,inplace=True)"
   ]
  },
  {
   "cell_type": "code",
   "execution_count": 45,
   "metadata": {
    "ExecuteTime": {
     "end_time": "2020-10-03T07:52:39.100326Z",
     "start_time": "2020-10-03T07:52:38.981650Z"
    }
   },
   "outputs": [
    {
     "name": "stdout",
     "output_type": "stream",
     "text": [
      "<class 'pandas.core.frame.DataFrame'>\n",
      "Int64Index: 790 entries, 0 to 818\n",
      "Data columns (total 15 columns):\n",
      " #   Column      Non-Null Count  Dtype         \n",
      "---  ------      --------------  -----         \n",
      " 0   Runs        790 non-null    int32         \n",
      " 1   BF          790 non-null    float64       \n",
      " 2   4s          790 non-null    float64       \n",
      " 3   6s          790 non-null    float64       \n",
      " 4   SR          790 non-null    float64       \n",
      " 5   Pos         790 non-null    float64       \n",
      " 6   Dismissal   790 non-null    object        \n",
      " 7   Inns        790 non-null    float64       \n",
      " 8   Opposition  790 non-null    object        \n",
      " 9   Ground      790 non-null    object        \n",
      " 10  Country     790 non-null    object        \n",
      " 11  Start Date  790 non-null    datetime64[ns]\n",
      " 12  Result      790 non-null    object        \n",
      " 13  Mode        790 non-null    object        \n",
      " 14  Match Type  790 non-null    object        \n",
      "dtypes: datetime64[ns](1), float64(6), int32(1), object(7)\n",
      "memory usage: 95.7+ KB\n"
     ]
    }
   ],
   "source": [
    "stat.info()"
   ]
  },
  {
   "cell_type": "code",
   "execution_count": 46,
   "metadata": {
    "ExecuteTime": {
     "end_time": "2020-10-03T07:52:39.234967Z",
     "start_time": "2020-10-03T07:52:39.103318Z"
    }
   },
   "outputs": [],
   "source": [
    "def out(x):\n",
    "    if x[\"Dismissal\"]==\"Not Out\":\n",
    "        return 0\n",
    "    return 1\n",
    "stat[\"Out\"]=stat.apply(out,axis=1)"
   ]
  },
  {
   "cell_type": "code",
   "execution_count": 47,
   "metadata": {
    "ExecuteTime": {
     "end_time": "2020-10-03T07:52:39.362624Z",
     "start_time": "2020-10-03T07:52:39.237960Z"
    }
   },
   "outputs": [
    {
     "data": {
      "text/plain": [
       "1    715\n",
       "0     75\n",
       "Name: Out, dtype: int64"
      ]
     },
     "execution_count": 47,
     "metadata": {},
     "output_type": "execute_result"
    }
   ],
   "source": [
    "stat[\"Out\"].value_counts()"
   ]
  },
  {
   "cell_type": "code",
   "execution_count": 48,
   "metadata": {
    "ExecuteTime": {
     "end_time": "2020-10-03T07:52:39.502250Z",
     "start_time": "2020-10-03T07:52:39.365616Z"
    }
   },
   "outputs": [],
   "source": [
    "stat[\"Start Date\"]=stat[\"Start Date\"].astype(str)"
   ]
  },
  {
   "cell_type": "code",
   "execution_count": 49,
   "metadata": {
    "ExecuteTime": {
     "end_time": "2020-10-03T07:52:39.633900Z",
     "start_time": "2020-10-03T07:52:39.505245Z"
    }
   },
   "outputs": [],
   "source": [
    "stat[\"Start Date\"]=stat[\"Start Date\"].apply(lambda x:x[:4]) #to do year wise analysis"
   ]
  },
  {
   "cell_type": "code",
   "execution_count": 50,
   "metadata": {
    "ExecuteTime": {
     "end_time": "2020-10-03T07:52:39.779510Z",
     "start_time": "2020-10-03T07:52:39.636891Z"
    }
   },
   "outputs": [
    {
     "data": {
      "text/html": [
       "<div>\n",
       "<style scoped>\n",
       "    .dataframe tbody tr th:only-of-type {\n",
       "        vertical-align: middle;\n",
       "    }\n",
       "\n",
       "    .dataframe tbody tr th {\n",
       "        vertical-align: top;\n",
       "    }\n",
       "\n",
       "    .dataframe thead th {\n",
       "        text-align: right;\n",
       "    }\n",
       "</style>\n",
       "<table border=\"1\" class=\"dataframe\">\n",
       "  <thead>\n",
       "    <tr style=\"text-align: right;\">\n",
       "      <th></th>\n",
       "      <th>Runs</th>\n",
       "      <th>BF</th>\n",
       "      <th>4s</th>\n",
       "      <th>6s</th>\n",
       "      <th>SR</th>\n",
       "      <th>Pos</th>\n",
       "      <th>Dismissal</th>\n",
       "      <th>Inns</th>\n",
       "      <th>Opposition</th>\n",
       "      <th>Ground</th>\n",
       "      <th>Country</th>\n",
       "      <th>Start Date</th>\n",
       "      <th>Result</th>\n",
       "      <th>Mode</th>\n",
       "      <th>Match Type</th>\n",
       "      <th>Out</th>\n",
       "    </tr>\n",
       "  </thead>\n",
       "  <tbody>\n",
       "    <tr>\n",
       "      <th>0</th>\n",
       "      <td>11</td>\n",
       "      <td>21.0</td>\n",
       "      <td>0.0</td>\n",
       "      <td>0.0</td>\n",
       "      <td>52.038899</td>\n",
       "      <td>6.0</td>\n",
       "      <td>LBW</td>\n",
       "      <td>1.0</td>\n",
       "      <td>Sri Lanka</td>\n",
       "      <td>Chandigarh</td>\n",
       "      <td>India</td>\n",
       "      <td>1990</td>\n",
       "      <td>Won</td>\n",
       "      <td>Home</td>\n",
       "      <td>Test</td>\n",
       "      <td>1</td>\n",
       "    </tr>\n",
       "    <tr>\n",
       "      <th>1</th>\n",
       "      <td>50</td>\n",
       "      <td>118.0</td>\n",
       "      <td>6.0</td>\n",
       "      <td>0.0</td>\n",
       "      <td>42.370000</td>\n",
       "      <td>4.0</td>\n",
       "      <td>Caught</td>\n",
       "      <td>1.0</td>\n",
       "      <td>England</td>\n",
       "      <td>Kolkata</td>\n",
       "      <td>India</td>\n",
       "      <td>1993</td>\n",
       "      <td>Won</td>\n",
       "      <td>Home</td>\n",
       "      <td>Test</td>\n",
       "      <td>1</td>\n",
       "    </tr>\n",
       "    <tr>\n",
       "      <th>2</th>\n",
       "      <td>9</td>\n",
       "      <td>19.0</td>\n",
       "      <td>2.0</td>\n",
       "      <td>0.0</td>\n",
       "      <td>47.360000</td>\n",
       "      <td>4.0</td>\n",
       "      <td>Not Out</td>\n",
       "      <td>4.0</td>\n",
       "      <td>England</td>\n",
       "      <td>Kolkata</td>\n",
       "      <td>India</td>\n",
       "      <td>1993</td>\n",
       "      <td>Won</td>\n",
       "      <td>Home</td>\n",
       "      <td>Test</td>\n",
       "      <td>0</td>\n",
       "    </tr>\n",
       "    <tr>\n",
       "      <th>3</th>\n",
       "      <td>165</td>\n",
       "      <td>296.0</td>\n",
       "      <td>24.0</td>\n",
       "      <td>1.0</td>\n",
       "      <td>55.740000</td>\n",
       "      <td>4.0</td>\n",
       "      <td>Caught</td>\n",
       "      <td>1.0</td>\n",
       "      <td>England</td>\n",
       "      <td>Chennai</td>\n",
       "      <td>India</td>\n",
       "      <td>1993</td>\n",
       "      <td>Won</td>\n",
       "      <td>Home</td>\n",
       "      <td>Test</td>\n",
       "      <td>1</td>\n",
       "    </tr>\n",
       "    <tr>\n",
       "      <th>4</th>\n",
       "      <td>78</td>\n",
       "      <td>213.0</td>\n",
       "      <td>10.0</td>\n",
       "      <td>0.0</td>\n",
       "      <td>36.610000</td>\n",
       "      <td>4.0</td>\n",
       "      <td>LBW</td>\n",
       "      <td>2.0</td>\n",
       "      <td>England</td>\n",
       "      <td>Mumbai</td>\n",
       "      <td>India</td>\n",
       "      <td>1993</td>\n",
       "      <td>Won</td>\n",
       "      <td>Home</td>\n",
       "      <td>Test</td>\n",
       "      <td>1</td>\n",
       "    </tr>\n",
       "    <tr>\n",
       "      <th>...</th>\n",
       "      <td>...</td>\n",
       "      <td>...</td>\n",
       "      <td>...</td>\n",
       "      <td>...</td>\n",
       "      <td>...</td>\n",
       "      <td>...</td>\n",
       "      <td>...</td>\n",
       "      <td>...</td>\n",
       "      <td>...</td>\n",
       "      <td>...</td>\n",
       "      <td>...</td>\n",
       "      <td>...</td>\n",
       "      <td>...</td>\n",
       "      <td>...</td>\n",
       "      <td>...</td>\n",
       "      <td>...</td>\n",
       "    </tr>\n",
       "    <tr>\n",
       "      <th>814</th>\n",
       "      <td>14</td>\n",
       "      <td>15.0</td>\n",
       "      <td>2.0</td>\n",
       "      <td>0.0</td>\n",
       "      <td>93.330000</td>\n",
       "      <td>2.0</td>\n",
       "      <td>Run Out</td>\n",
       "      <td>2.0</td>\n",
       "      <td>Australia</td>\n",
       "      <td>Sydney</td>\n",
       "      <td>Australia</td>\n",
       "      <td>2012</td>\n",
       "      <td>Lost</td>\n",
       "      <td>Away</td>\n",
       "      <td>ODI</td>\n",
       "      <td>1</td>\n",
       "    </tr>\n",
       "    <tr>\n",
       "      <th>815</th>\n",
       "      <td>39</td>\n",
       "      <td>30.0</td>\n",
       "      <td>5.0</td>\n",
       "      <td>0.0</td>\n",
       "      <td>130.000000</td>\n",
       "      <td>2.0</td>\n",
       "      <td>LBW</td>\n",
       "      <td>2.0</td>\n",
       "      <td>Sri Lanka</td>\n",
       "      <td>Hobart</td>\n",
       "      <td>Australia</td>\n",
       "      <td>2012</td>\n",
       "      <td>Won</td>\n",
       "      <td>Away</td>\n",
       "      <td>ODI</td>\n",
       "      <td>1</td>\n",
       "    </tr>\n",
       "    <tr>\n",
       "      <th>816</th>\n",
       "      <td>6</td>\n",
       "      <td>19.0</td>\n",
       "      <td>1.0</td>\n",
       "      <td>0.0</td>\n",
       "      <td>31.570000</td>\n",
       "      <td>2.0</td>\n",
       "      <td>Caught</td>\n",
       "      <td>1.0</td>\n",
       "      <td>Sri Lanka</td>\n",
       "      <td>Dhaka</td>\n",
       "      <td>Bangladesh</td>\n",
       "      <td>2012</td>\n",
       "      <td>Won</td>\n",
       "      <td>Away</td>\n",
       "      <td>ODI</td>\n",
       "      <td>1</td>\n",
       "    </tr>\n",
       "    <tr>\n",
       "      <th>817</th>\n",
       "      <td>114</td>\n",
       "      <td>147.0</td>\n",
       "      <td>12.0</td>\n",
       "      <td>1.0</td>\n",
       "      <td>77.550000</td>\n",
       "      <td>2.0</td>\n",
       "      <td>Caught</td>\n",
       "      <td>1.0</td>\n",
       "      <td>Bangladesh</td>\n",
       "      <td>Dhaka</td>\n",
       "      <td>Bangladesh</td>\n",
       "      <td>2012</td>\n",
       "      <td>Lost</td>\n",
       "      <td>Away</td>\n",
       "      <td>ODI</td>\n",
       "      <td>1</td>\n",
       "    </tr>\n",
       "    <tr>\n",
       "      <th>818</th>\n",
       "      <td>52</td>\n",
       "      <td>48.0</td>\n",
       "      <td>5.0</td>\n",
       "      <td>1.0</td>\n",
       "      <td>108.330000</td>\n",
       "      <td>2.0</td>\n",
       "      <td>Caught</td>\n",
       "      <td>2.0</td>\n",
       "      <td>Pakistan</td>\n",
       "      <td>Dhaka</td>\n",
       "      <td>Bangladesh</td>\n",
       "      <td>2012</td>\n",
       "      <td>Won</td>\n",
       "      <td>Away</td>\n",
       "      <td>ODI</td>\n",
       "      <td>1</td>\n",
       "    </tr>\n",
       "  </tbody>\n",
       "</table>\n",
       "<p>790 rows × 16 columns</p>\n",
       "</div>"
      ],
      "text/plain": [
       "     Runs     BF    4s   6s          SR  Pos Dismissal  Inns  Opposition  \\\n",
       "0      11   21.0   0.0  0.0   52.038899  6.0       LBW   1.0   Sri Lanka   \n",
       "1      50  118.0   6.0  0.0   42.370000  4.0    Caught   1.0     England   \n",
       "2       9   19.0   2.0  0.0   47.360000  4.0   Not Out   4.0     England   \n",
       "3     165  296.0  24.0  1.0   55.740000  4.0    Caught   1.0     England   \n",
       "4      78  213.0  10.0  0.0   36.610000  4.0       LBW   2.0     England   \n",
       "..    ...    ...   ...  ...         ...  ...       ...   ...         ...   \n",
       "814    14   15.0   2.0  0.0   93.330000  2.0   Run Out   2.0   Australia   \n",
       "815    39   30.0   5.0  0.0  130.000000  2.0       LBW   2.0   Sri Lanka   \n",
       "816     6   19.0   1.0  0.0   31.570000  2.0    Caught   1.0   Sri Lanka   \n",
       "817   114  147.0  12.0  1.0   77.550000  2.0    Caught   1.0  Bangladesh   \n",
       "818    52   48.0   5.0  1.0  108.330000  2.0    Caught   2.0    Pakistan   \n",
       "\n",
       "         Ground     Country Start Date Result  Mode Match Type  Out  \n",
       "0    Chandigarh       India       1990    Won  Home       Test    1  \n",
       "1       Kolkata       India       1993    Won  Home       Test    1  \n",
       "2       Kolkata       India       1993    Won  Home       Test    0  \n",
       "3       Chennai       India       1993    Won  Home       Test    1  \n",
       "4        Mumbai       India       1993    Won  Home       Test    1  \n",
       "..          ...         ...        ...    ...   ...        ...  ...  \n",
       "814      Sydney   Australia       2012   Lost  Away        ODI    1  \n",
       "815      Hobart   Australia       2012    Won  Away        ODI    1  \n",
       "816       Dhaka  Bangladesh       2012    Won  Away        ODI    1  \n",
       "817       Dhaka  Bangladesh       2012   Lost  Away        ODI    1  \n",
       "818       Dhaka  Bangladesh       2012    Won  Away        ODI    1  \n",
       "\n",
       "[790 rows x 16 columns]"
      ]
     },
     "execution_count": 50,
     "metadata": {},
     "output_type": "execute_result"
    }
   ],
   "source": [
    "stat"
   ]
  },
  {
   "cell_type": "markdown",
   "metadata": {},
   "source": [
    "### no. of centuries with different oppositions"
   ]
  },
  {
   "cell_type": "code",
   "execution_count": 51,
   "metadata": {
    "ExecuteTime": {
     "end_time": "2020-10-03T07:52:39.888225Z",
     "start_time": "2020-10-03T07:52:39.782503Z"
    }
   },
   "outputs": [
    {
     "data": {
      "text/plain": [
       "Opposition\n",
       "Australia       20\n",
       "Bangladesh       6\n",
       "England          9\n",
       "Kenya            4\n",
       "Namibia          1\n",
       "New Zealand      9\n",
       "Pakistan         7\n",
       "South Africa    12\n",
       "Sri Lanka       17\n",
       "West Indies      7\n",
       "Zimbabwe         8\n",
       "Name: Runs, dtype: int64"
      ]
     },
     "execution_count": 51,
     "metadata": {},
     "output_type": "execute_result"
    }
   ],
   "source": [
    "stat[stat[\"Runs\"]>=100].groupby(\"Opposition\")[\"Runs\"].count()"
   ]
  },
  {
   "cell_type": "markdown",
   "metadata": {},
   "source": [
    "### no. of centuries based on odi and test with inning wise classification"
   ]
  },
  {
   "cell_type": "code",
   "execution_count": 52,
   "metadata": {
    "ExecuteTime": {
     "end_time": "2020-10-03T07:52:40.063751Z",
     "start_time": "2020-10-03T07:52:39.891210Z"
    }
   },
   "outputs": [
    {
     "data": {
      "text/plain": [
       "Match Type  Inns\n",
       "ODI         1.0     32\n",
       "            2.0     17\n",
       "Test        1.0     20\n",
       "            2.0     18\n",
       "            3.0     10\n",
       "            4.0      3\n",
       "Name: Runs, dtype: int64"
      ]
     },
     "execution_count": 52,
     "metadata": {},
     "output_type": "execute_result"
    }
   ],
   "source": [
    "stat[stat[\"Runs\"]>=100].groupby([\"Match Type\",\"Inns\"],sort=True)[\"Runs\"].count()"
   ]
  },
  {
   "cell_type": "markdown",
   "metadata": {},
   "source": [
    "### no. of centuries with different oppositions hued as away and home conditions"
   ]
  },
  {
   "cell_type": "code",
   "execution_count": 53,
   "metadata": {
    "ExecuteTime": {
     "end_time": "2020-10-03T07:52:40.175450Z",
     "start_time": "2020-10-03T07:52:40.066741Z"
    }
   },
   "outputs": [
    {
     "data": {
      "text/plain": [
       "Opposition    Mode\n",
       "Australia     Away    11\n",
       "              Home     9\n",
       "Bangladesh    Away     6\n",
       "England       Away     5\n",
       "              Home     4\n",
       "Kenya         Away     2\n",
       "              Home     2\n",
       "Namibia       Away     1\n",
       "New Zealand   Away     3\n",
       "              Home     6\n",
       "Pakistan      Away     5\n",
       "              Home     2\n",
       "South Africa  Away     6\n",
       "              Home     6\n",
       "Sri Lanka     Away    12\n",
       "              Home     5\n",
       "West Indies   Away     3\n",
       "              Home     4\n",
       "Zimbabwe      Away     4\n",
       "              Home     4\n",
       "Name: Runs, dtype: int64"
      ]
     },
     "execution_count": 53,
     "metadata": {},
     "output_type": "execute_result"
    }
   ],
   "source": [
    "stat[stat[\"Runs\"]>=100].groupby([\"Opposition\",\"Mode\"])[\"Runs\"].count()"
   ]
  },
  {
   "cell_type": "markdown",
   "metadata": {},
   "source": [
    "### no of centuries where he stayed as out or notout"
   ]
  },
  {
   "cell_type": "code",
   "execution_count": 54,
   "metadata": {
    "ExecuteTime": {
     "end_time": "2020-10-03T07:52:40.372922Z",
     "start_time": "2020-10-03T07:52:40.178442Z"
    }
   },
   "outputs": [
    {
     "data": {
      "text/plain": [
       "Out\n",
       "0    31\n",
       "1    69\n",
       "Name: Runs, dtype: int64"
      ]
     },
     "execution_count": 54,
     "metadata": {},
     "output_type": "execute_result"
    }
   ],
   "source": [
    "stat[stat[\"Runs\"]>=100].groupby(\"Out\")[\"Runs\"].count()"
   ]
  },
  {
   "cell_type": "code",
   "execution_count": 55,
   "metadata": {
    "ExecuteTime": {
     "end_time": "2020-10-03T07:52:40.486617Z",
     "start_time": "2020-10-03T07:52:40.375917Z"
    }
   },
   "outputs": [
    {
     "data": {
      "text/plain": [
       "Start Date  Match Type\n",
       "1990        Test          1\n",
       "1992        Test          3\n",
       "1993        Test          2\n",
       "1994        ODI           3\n",
       "            Test          2\n",
       "1995        ODI           1\n",
       "1996        ODI           6\n",
       "            Test          2\n",
       "1997        ODI           2\n",
       "            Test          4\n",
       "1998        ODI           9\n",
       "            Test          3\n",
       "1999        ODI           3\n",
       "            Test          5\n",
       "2000        ODI           3\n",
       "            Test          2\n",
       "2001        ODI           4\n",
       "            Test          3\n",
       "2002        ODI           2\n",
       "            Test          4\n",
       "2003        ODI           3\n",
       "2004        ODI           1\n",
       "            Test          3\n",
       "2005        ODI           1\n",
       "            Test          1\n",
       "2006        ODI           2\n",
       "2007        ODI           1\n",
       "            Test          2\n",
       "2008        ODI           1\n",
       "            Test          4\n",
       "2009        ODI           3\n",
       "            Test          2\n",
       "2010        ODI           1\n",
       "            Test          7\n",
       "2011        ODI           2\n",
       "            Test          1\n",
       "2012        ODI           1\n",
       "Name: Runs, dtype: int64"
      ]
     },
     "execution_count": 55,
     "metadata": {},
     "output_type": "execute_result"
    }
   ],
   "source": [
    "stat[stat[\"Runs\"]>=100].groupby([\"Start Date\",\"Match Type\"])[\"Runs\"].count() #year wise test and odi centuries"
   ]
  },
  {
   "cell_type": "code",
   "execution_count": 56,
   "metadata": {
    "ExecuteTime": {
     "end_time": "2020-10-03T07:52:40.617269Z",
     "start_time": "2020-10-03T07:52:40.489610Z"
    }
   },
   "outputs": [
    {
     "data": {
      "text/plain": [
       "Pos\n",
       "1.0     2\n",
       "2.0    43\n",
       "4.0    48\n",
       "5.0     5\n",
       "6.0     2\n",
       "Name: Runs, dtype: int64"
      ]
     },
     "execution_count": 56,
     "metadata": {},
     "output_type": "execute_result"
    }
   ],
   "source": [
    "stat[stat[\"Runs\"]>=100].groupby(\"Pos\")[\"Runs\"].count() #centuries with position as factor"
   ]
  },
  {
   "cell_type": "code",
   "execution_count": 57,
   "metadata": {
    "ExecuteTime": {
     "end_time": "2020-10-03T07:52:40.752908Z",
     "start_time": "2020-10-03T07:52:40.620260Z"
    }
   },
   "outputs": [
    {
     "data": {
      "text/plain": [
       "Mode  Match Type\n",
       "Away  ODI           29\n",
       "      Test          29\n",
       "Home  ODI           20\n",
       "      Test          22\n",
       "Name: Runs, dtype: int64"
      ]
     },
     "execution_count": 57,
     "metadata": {},
     "output_type": "execute_result"
    }
   ],
   "source": [
    "stat[stat[\"Runs\"]>=100].groupby([\"Mode\",\"Match Type\"])[\"Runs\"].count()"
   ]
  },
  {
   "cell_type": "code",
   "execution_count": 58,
   "metadata": {
    "ExecuteTime": {
     "end_time": "2020-10-03T07:52:40.876576Z",
     "start_time": "2020-10-03T07:52:40.755899Z"
    }
   },
   "outputs": [
    {
     "data": {
      "text/plain": [
       "Opposition    Mode  Match Type\n",
       "Australia     Away  ODI           143\n",
       "                    Test          241\n",
       "              Home  ODI           175\n",
       "                    Test          214\n",
       "Bangladesh    Away  ODI           114\n",
       "                    Test          248\n",
       "              Home  ODI            33\n",
       "Bermuda       Away  ODI            57\n",
       "England       Away  ODI           105\n",
       "                    Test          193\n",
       "              Home  ODI           120\n",
       "                    Test          165\n",
       "Ireland       Away  ODI             4\n",
       "              Home  ODI            38\n",
       "Kenya         Away  ODI           146\n",
       "              Home  ODI           127\n",
       "Namibia       Away  ODI           152\n",
       "Netherlands   Away  ODI            52\n",
       "              Home  ODI            27\n",
       "New Zealand   Away  ODI           163\n",
       "                    Test          160\n",
       "              Home  ODI           186\n",
       "                    Test          217\n",
       "Pakistan      Away  ODI           141\n",
       "                    Test          194\n",
       "              Home  ODI           123\n",
       "                    Test          136\n",
       "South Africa  Away  ODI           101\n",
       "                    Test          169\n",
       "              Home  ODI           200\n",
       "                    Test          106\n",
       "Sri Lanka     Away  ODI           138\n",
       "                    Test          203\n",
       "              Home  ODI           137\n",
       "                    Test          148\n",
       "U.A.E.        Away  ODI            63\n",
       "West Indies   Away  ODI           141\n",
       "                    Test          117\n",
       "              Home  ODI           105\n",
       "                    Test          179\n",
       "Zimbabwe      Away  ODI           127\n",
       "                    Test           74\n",
       "              Home  ODI           146\n",
       "                    Test          201\n",
       "Name: Runs, dtype: int32"
      ]
     },
     "execution_count": 58,
     "metadata": {},
     "output_type": "execute_result"
    }
   ],
   "source": [
    "stat.groupby([\"Opposition\",\"Mode\",\"Match Type\"])[\"Runs\"].max() #highest score with each team in home or away conditions(Test and ODI)"
   ]
  },
  {
   "cell_type": "code",
   "execution_count": 59,
   "metadata": {
    "ExecuteTime": {
     "end_time": "2020-10-03T07:52:41.014208Z",
     "start_time": "2020-10-03T07:52:40.879566Z"
    }
   },
   "outputs": [
    {
     "data": {
      "text/html": [
       "<div>\n",
       "<style scoped>\n",
       "    .dataframe tbody tr th:only-of-type {\n",
       "        vertical-align: middle;\n",
       "    }\n",
       "\n",
       "    .dataframe tbody tr th {\n",
       "        vertical-align: top;\n",
       "    }\n",
       "\n",
       "    .dataframe thead th {\n",
       "        text-align: right;\n",
       "    }\n",
       "</style>\n",
       "<table border=\"1\" class=\"dataframe\">\n",
       "  <thead>\n",
       "    <tr style=\"text-align: right;\">\n",
       "      <th></th>\n",
       "      <th>Runs</th>\n",
       "      <th>BF</th>\n",
       "      <th>4s</th>\n",
       "      <th>6s</th>\n",
       "      <th>SR</th>\n",
       "      <th>Pos</th>\n",
       "      <th>Dismissal</th>\n",
       "      <th>Inns</th>\n",
       "      <th>Opposition</th>\n",
       "      <th>Ground</th>\n",
       "      <th>Country</th>\n",
       "      <th>Start Date</th>\n",
       "      <th>Result</th>\n",
       "      <th>Mode</th>\n",
       "      <th>Match Type</th>\n",
       "      <th>Out</th>\n",
       "    </tr>\n",
       "  </thead>\n",
       "  <tbody>\n",
       "    <tr>\n",
       "      <th>0</th>\n",
       "      <td>11</td>\n",
       "      <td>21.0</td>\n",
       "      <td>0.0</td>\n",
       "      <td>0.0</td>\n",
       "      <td>52.038899</td>\n",
       "      <td>6.0</td>\n",
       "      <td>LBW</td>\n",
       "      <td>1.0</td>\n",
       "      <td>Sri Lanka</td>\n",
       "      <td>Chandigarh</td>\n",
       "      <td>India</td>\n",
       "      <td>1990</td>\n",
       "      <td>Won</td>\n",
       "      <td>Home</td>\n",
       "      <td>Test</td>\n",
       "      <td>1</td>\n",
       "    </tr>\n",
       "    <tr>\n",
       "      <th>1</th>\n",
       "      <td>50</td>\n",
       "      <td>118.0</td>\n",
       "      <td>6.0</td>\n",
       "      <td>0.0</td>\n",
       "      <td>42.370000</td>\n",
       "      <td>4.0</td>\n",
       "      <td>Caught</td>\n",
       "      <td>1.0</td>\n",
       "      <td>England</td>\n",
       "      <td>Kolkata</td>\n",
       "      <td>India</td>\n",
       "      <td>1993</td>\n",
       "      <td>Won</td>\n",
       "      <td>Home</td>\n",
       "      <td>Test</td>\n",
       "      <td>1</td>\n",
       "    </tr>\n",
       "    <tr>\n",
       "      <th>2</th>\n",
       "      <td>9</td>\n",
       "      <td>19.0</td>\n",
       "      <td>2.0</td>\n",
       "      <td>0.0</td>\n",
       "      <td>47.360000</td>\n",
       "      <td>4.0</td>\n",
       "      <td>Not Out</td>\n",
       "      <td>4.0</td>\n",
       "      <td>England</td>\n",
       "      <td>Kolkata</td>\n",
       "      <td>India</td>\n",
       "      <td>1993</td>\n",
       "      <td>Won</td>\n",
       "      <td>Home</td>\n",
       "      <td>Test</td>\n",
       "      <td>0</td>\n",
       "    </tr>\n",
       "    <tr>\n",
       "      <th>3</th>\n",
       "      <td>165</td>\n",
       "      <td>296.0</td>\n",
       "      <td>24.0</td>\n",
       "      <td>1.0</td>\n",
       "      <td>55.740000</td>\n",
       "      <td>4.0</td>\n",
       "      <td>Caught</td>\n",
       "      <td>1.0</td>\n",
       "      <td>England</td>\n",
       "      <td>Chennai</td>\n",
       "      <td>India</td>\n",
       "      <td>1993</td>\n",
       "      <td>Won</td>\n",
       "      <td>Home</td>\n",
       "      <td>Test</td>\n",
       "      <td>1</td>\n",
       "    </tr>\n",
       "    <tr>\n",
       "      <th>4</th>\n",
       "      <td>78</td>\n",
       "      <td>213.0</td>\n",
       "      <td>10.0</td>\n",
       "      <td>0.0</td>\n",
       "      <td>36.610000</td>\n",
       "      <td>4.0</td>\n",
       "      <td>LBW</td>\n",
       "      <td>2.0</td>\n",
       "      <td>England</td>\n",
       "      <td>Mumbai</td>\n",
       "      <td>India</td>\n",
       "      <td>1993</td>\n",
       "      <td>Won</td>\n",
       "      <td>Home</td>\n",
       "      <td>Test</td>\n",
       "      <td>1</td>\n",
       "    </tr>\n",
       "    <tr>\n",
       "      <th>...</th>\n",
       "      <td>...</td>\n",
       "      <td>...</td>\n",
       "      <td>...</td>\n",
       "      <td>...</td>\n",
       "      <td>...</td>\n",
       "      <td>...</td>\n",
       "      <td>...</td>\n",
       "      <td>...</td>\n",
       "      <td>...</td>\n",
       "      <td>...</td>\n",
       "      <td>...</td>\n",
       "      <td>...</td>\n",
       "      <td>...</td>\n",
       "      <td>...</td>\n",
       "      <td>...</td>\n",
       "      <td>...</td>\n",
       "    </tr>\n",
       "    <tr>\n",
       "      <th>814</th>\n",
       "      <td>14</td>\n",
       "      <td>15.0</td>\n",
       "      <td>2.0</td>\n",
       "      <td>0.0</td>\n",
       "      <td>93.330000</td>\n",
       "      <td>2.0</td>\n",
       "      <td>Run Out</td>\n",
       "      <td>2.0</td>\n",
       "      <td>Australia</td>\n",
       "      <td>Sydney</td>\n",
       "      <td>Australia</td>\n",
       "      <td>2012</td>\n",
       "      <td>Lost</td>\n",
       "      <td>Away</td>\n",
       "      <td>ODI</td>\n",
       "      <td>1</td>\n",
       "    </tr>\n",
       "    <tr>\n",
       "      <th>815</th>\n",
       "      <td>39</td>\n",
       "      <td>30.0</td>\n",
       "      <td>5.0</td>\n",
       "      <td>0.0</td>\n",
       "      <td>130.000000</td>\n",
       "      <td>2.0</td>\n",
       "      <td>LBW</td>\n",
       "      <td>2.0</td>\n",
       "      <td>Sri Lanka</td>\n",
       "      <td>Hobart</td>\n",
       "      <td>Australia</td>\n",
       "      <td>2012</td>\n",
       "      <td>Won</td>\n",
       "      <td>Away</td>\n",
       "      <td>ODI</td>\n",
       "      <td>1</td>\n",
       "    </tr>\n",
       "    <tr>\n",
       "      <th>816</th>\n",
       "      <td>6</td>\n",
       "      <td>19.0</td>\n",
       "      <td>1.0</td>\n",
       "      <td>0.0</td>\n",
       "      <td>31.570000</td>\n",
       "      <td>2.0</td>\n",
       "      <td>Caught</td>\n",
       "      <td>1.0</td>\n",
       "      <td>Sri Lanka</td>\n",
       "      <td>Dhaka</td>\n",
       "      <td>Bangladesh</td>\n",
       "      <td>2012</td>\n",
       "      <td>Won</td>\n",
       "      <td>Away</td>\n",
       "      <td>ODI</td>\n",
       "      <td>1</td>\n",
       "    </tr>\n",
       "    <tr>\n",
       "      <th>817</th>\n",
       "      <td>114</td>\n",
       "      <td>147.0</td>\n",
       "      <td>12.0</td>\n",
       "      <td>1.0</td>\n",
       "      <td>77.550000</td>\n",
       "      <td>2.0</td>\n",
       "      <td>Caught</td>\n",
       "      <td>1.0</td>\n",
       "      <td>Bangladesh</td>\n",
       "      <td>Dhaka</td>\n",
       "      <td>Bangladesh</td>\n",
       "      <td>2012</td>\n",
       "      <td>Lost</td>\n",
       "      <td>Away</td>\n",
       "      <td>ODI</td>\n",
       "      <td>1</td>\n",
       "    </tr>\n",
       "    <tr>\n",
       "      <th>818</th>\n",
       "      <td>52</td>\n",
       "      <td>48.0</td>\n",
       "      <td>5.0</td>\n",
       "      <td>1.0</td>\n",
       "      <td>108.330000</td>\n",
       "      <td>2.0</td>\n",
       "      <td>Caught</td>\n",
       "      <td>2.0</td>\n",
       "      <td>Pakistan</td>\n",
       "      <td>Dhaka</td>\n",
       "      <td>Bangladesh</td>\n",
       "      <td>2012</td>\n",
       "      <td>Won</td>\n",
       "      <td>Away</td>\n",
       "      <td>ODI</td>\n",
       "      <td>1</td>\n",
       "    </tr>\n",
       "  </tbody>\n",
       "</table>\n",
       "<p>790 rows × 16 columns</p>\n",
       "</div>"
      ],
      "text/plain": [
       "     Runs     BF    4s   6s          SR  Pos Dismissal  Inns  Opposition  \\\n",
       "0      11   21.0   0.0  0.0   52.038899  6.0       LBW   1.0   Sri Lanka   \n",
       "1      50  118.0   6.0  0.0   42.370000  4.0    Caught   1.0     England   \n",
       "2       9   19.0   2.0  0.0   47.360000  4.0   Not Out   4.0     England   \n",
       "3     165  296.0  24.0  1.0   55.740000  4.0    Caught   1.0     England   \n",
       "4      78  213.0  10.0  0.0   36.610000  4.0       LBW   2.0     England   \n",
       "..    ...    ...   ...  ...         ...  ...       ...   ...         ...   \n",
       "814    14   15.0   2.0  0.0   93.330000  2.0   Run Out   2.0   Australia   \n",
       "815    39   30.0   5.0  0.0  130.000000  2.0       LBW   2.0   Sri Lanka   \n",
       "816     6   19.0   1.0  0.0   31.570000  2.0    Caught   1.0   Sri Lanka   \n",
       "817   114  147.0  12.0  1.0   77.550000  2.0    Caught   1.0  Bangladesh   \n",
       "818    52   48.0   5.0  1.0  108.330000  2.0    Caught   2.0    Pakistan   \n",
       "\n",
       "         Ground     Country Start Date Result  Mode Match Type  Out  \n",
       "0    Chandigarh       India       1990    Won  Home       Test    1  \n",
       "1       Kolkata       India       1993    Won  Home       Test    1  \n",
       "2       Kolkata       India       1993    Won  Home       Test    0  \n",
       "3       Chennai       India       1993    Won  Home       Test    1  \n",
       "4        Mumbai       India       1993    Won  Home       Test    1  \n",
       "..          ...         ...        ...    ...   ...        ...  ...  \n",
       "814      Sydney   Australia       2012   Lost  Away        ODI    1  \n",
       "815      Hobart   Australia       2012    Won  Away        ODI    1  \n",
       "816       Dhaka  Bangladesh       2012    Won  Away        ODI    1  \n",
       "817       Dhaka  Bangladesh       2012   Lost  Away        ODI    1  \n",
       "818       Dhaka  Bangladesh       2012    Won  Away        ODI    1  \n",
       "\n",
       "[790 rows x 16 columns]"
      ]
     },
     "execution_count": 59,
     "metadata": {},
     "output_type": "execute_result"
    }
   ],
   "source": [
    "stat"
   ]
  },
  {
   "cell_type": "code",
   "execution_count": 60,
   "metadata": {
    "ExecuteTime": {
     "end_time": "2020-10-03T07:52:41.200709Z",
     "start_time": "2020-10-03T07:52:41.017199Z"
    }
   },
   "outputs": [
    {
     "name": "stderr",
     "output_type": "stream",
     "text": [
      "D:\\Users\\Ritvik\\Anaconda3\\envs\\ailab\\lib\\site-packages\\ipykernel_launcher.py:1: FutureWarning: Indexing with multiple keys (implicitly converted to a tuple of keys) will be deprecated, use a list instead.\n",
      "  \"\"\"Entry point for launching an IPython kernel.\n"
     ]
    },
    {
     "data": {
      "text/html": [
       "<div>\n",
       "<style scoped>\n",
       "    .dataframe tbody tr th:only-of-type {\n",
       "        vertical-align: middle;\n",
       "    }\n",
       "\n",
       "    .dataframe tbody tr th {\n",
       "        vertical-align: top;\n",
       "    }\n",
       "\n",
       "    .dataframe thead th {\n",
       "        text-align: right;\n",
       "    }\n",
       "</style>\n",
       "<table border=\"1\" class=\"dataframe\">\n",
       "  <thead>\n",
       "    <tr style=\"text-align: right;\">\n",
       "      <th></th>\n",
       "      <th></th>\n",
       "      <th>BF</th>\n",
       "      <th>Runs</th>\n",
       "    </tr>\n",
       "    <tr>\n",
       "      <th>Opposition</th>\n",
       "      <th>Match Type</th>\n",
       "      <th></th>\n",
       "      <th></th>\n",
       "    </tr>\n",
       "  </thead>\n",
       "  <tbody>\n",
       "    <tr>\n",
       "      <th rowspan=\"2\" valign=\"top\">Australia</th>\n",
       "      <th>ODI</th>\n",
       "      <td>141.0</td>\n",
       "      <td>175</td>\n",
       "    </tr>\n",
       "    <tr>\n",
       "      <th>Test</th>\n",
       "      <td>436.0</td>\n",
       "      <td>241</td>\n",
       "    </tr>\n",
       "    <tr>\n",
       "      <th rowspan=\"2\" valign=\"top\">Bangladesh</th>\n",
       "      <th>ODI</th>\n",
       "      <td>147.0</td>\n",
       "      <td>114</td>\n",
       "    </tr>\n",
       "    <tr>\n",
       "      <th>Test</th>\n",
       "      <td>379.0</td>\n",
       "      <td>248</td>\n",
       "    </tr>\n",
       "    <tr>\n",
       "      <th>Bermuda</th>\n",
       "      <th>ODI</th>\n",
       "      <td>29.0</td>\n",
       "      <td>57</td>\n",
       "    </tr>\n",
       "    <tr>\n",
       "      <th rowspan=\"2\" valign=\"top\">England</th>\n",
       "      <th>ODI</th>\n",
       "      <td>115.0</td>\n",
       "      <td>120</td>\n",
       "    </tr>\n",
       "    <tr>\n",
       "      <th>Test</th>\n",
       "      <td>360.0</td>\n",
       "      <td>193</td>\n",
       "    </tr>\n",
       "    <tr>\n",
       "      <th>Ireland</th>\n",
       "      <th>ODI</th>\n",
       "      <td>56.0</td>\n",
       "      <td>38</td>\n",
       "    </tr>\n",
       "    <tr>\n",
       "      <th>Kenya</th>\n",
       "      <th>ODI</th>\n",
       "      <td>138.0</td>\n",
       "      <td>146</td>\n",
       "    </tr>\n",
       "    <tr>\n",
       "      <th>Namibia</th>\n",
       "      <th>ODI</th>\n",
       "      <td>151.0</td>\n",
       "      <td>152</td>\n",
       "    </tr>\n",
       "    <tr>\n",
       "      <th>Netherlands</th>\n",
       "      <th>ODI</th>\n",
       "      <td>72.0</td>\n",
       "      <td>52</td>\n",
       "    </tr>\n",
       "    <tr>\n",
       "      <th rowspan=\"2\" valign=\"top\">New Zealand</th>\n",
       "      <th>ODI</th>\n",
       "      <td>150.0</td>\n",
       "      <td>186</td>\n",
       "    </tr>\n",
       "    <tr>\n",
       "      <th>Test</th>\n",
       "      <td>344.0</td>\n",
       "      <td>217</td>\n",
       "    </tr>\n",
       "    <tr>\n",
       "      <th rowspan=\"2\" valign=\"top\">Pakistan</th>\n",
       "      <th>ODI</th>\n",
       "      <td>140.0</td>\n",
       "      <td>141</td>\n",
       "    </tr>\n",
       "    <tr>\n",
       "      <th>Test</th>\n",
       "      <td>348.0</td>\n",
       "      <td>194</td>\n",
       "    </tr>\n",
       "    <tr>\n",
       "      <th rowspan=\"2\" valign=\"top\">South Africa</th>\n",
       "      <th>ODI</th>\n",
       "      <td>147.0</td>\n",
       "      <td>200</td>\n",
       "    </tr>\n",
       "    <tr>\n",
       "      <th>Test</th>\n",
       "      <td>314.0</td>\n",
       "      <td>169</td>\n",
       "    </tr>\n",
       "    <tr>\n",
       "      <th rowspan=\"2\" valign=\"top\">Sri Lanka</th>\n",
       "      <th>ODI</th>\n",
       "      <td>141.0</td>\n",
       "      <td>138</td>\n",
       "    </tr>\n",
       "    <tr>\n",
       "      <th>Test</th>\n",
       "      <td>347.0</td>\n",
       "      <td>203</td>\n",
       "    </tr>\n",
       "    <tr>\n",
       "      <th>U.A.E.</th>\n",
       "      <th>ODI</th>\n",
       "      <td>77.0</td>\n",
       "      <td>63</td>\n",
       "    </tr>\n",
       "    <tr>\n",
       "      <th rowspan=\"2\" valign=\"top\">West Indies</th>\n",
       "      <th>ODI</th>\n",
       "      <td>148.0</td>\n",
       "      <td>141</td>\n",
       "    </tr>\n",
       "    <tr>\n",
       "      <th>Test</th>\n",
       "      <td>322.0</td>\n",
       "      <td>179</td>\n",
       "    </tr>\n",
       "    <tr>\n",
       "      <th rowspan=\"2\" valign=\"top\">Zimbabwe</th>\n",
       "      <th>ODI</th>\n",
       "      <td>153.0</td>\n",
       "      <td>146</td>\n",
       "    </tr>\n",
       "    <tr>\n",
       "      <th>Test</th>\n",
       "      <td>316.0</td>\n",
       "      <td>201</td>\n",
       "    </tr>\n",
       "  </tbody>\n",
       "</table>\n",
       "</div>"
      ],
      "text/plain": [
       "                            BF  Runs\n",
       "Opposition   Match Type             \n",
       "Australia    ODI         141.0   175\n",
       "             Test        436.0   241\n",
       "Bangladesh   ODI         147.0   114\n",
       "             Test        379.0   248\n",
       "Bermuda      ODI          29.0    57\n",
       "England      ODI         115.0   120\n",
       "             Test        360.0   193\n",
       "Ireland      ODI          56.0    38\n",
       "Kenya        ODI         138.0   146\n",
       "Namibia      ODI         151.0   152\n",
       "Netherlands  ODI          72.0    52\n",
       "New Zealand  ODI         150.0   186\n",
       "             Test        344.0   217\n",
       "Pakistan     ODI         140.0   141\n",
       "             Test        348.0   194\n",
       "South Africa ODI         147.0   200\n",
       "             Test        314.0   169\n",
       "Sri Lanka    ODI         141.0   138\n",
       "             Test        347.0   203\n",
       "U.A.E.       ODI          77.0    63\n",
       "West Indies  ODI         148.0   141\n",
       "             Test        322.0   179\n",
       "Zimbabwe     ODI         153.0   146\n",
       "             Test        316.0   201"
      ]
     },
     "execution_count": 60,
     "metadata": {},
     "output_type": "execute_result"
    }
   ],
   "source": [
    "stat.groupby([\"Opposition\",\"Match Type\"])[\"BF\",\"Runs\"].max()"
   ]
  },
  {
   "cell_type": "code",
   "execution_count": 61,
   "metadata": {
    "ExecuteTime": {
     "end_time": "2020-10-03T07:52:41.406160Z",
     "start_time": "2020-10-03T07:52:41.203703Z"
    }
   },
   "outputs": [
    {
     "name": "stderr",
     "output_type": "stream",
     "text": [
      "D:\\Users\\Ritvik\\Anaconda3\\envs\\ailab\\lib\\site-packages\\ipykernel_launcher.py:1: FutureWarning: Indexing with multiple keys (implicitly converted to a tuple of keys) will be deprecated, use a list instead.\n",
      "  \"\"\"Entry point for launching an IPython kernel.\n"
     ]
    },
    {
     "data": {
      "text/html": [
       "<div>\n",
       "<style scoped>\n",
       "    .dataframe tbody tr th:only-of-type {\n",
       "        vertical-align: middle;\n",
       "    }\n",
       "\n",
       "    .dataframe tbody tr th {\n",
       "        vertical-align: top;\n",
       "    }\n",
       "\n",
       "    .dataframe thead th {\n",
       "        text-align: right;\n",
       "    }\n",
       "</style>\n",
       "<table border=\"1\" class=\"dataframe\">\n",
       "  <thead>\n",
       "    <tr style=\"text-align: right;\">\n",
       "      <th></th>\n",
       "      <th></th>\n",
       "      <th>BF</th>\n",
       "      <th>Runs</th>\n",
       "      <th>4s</th>\n",
       "      <th>6s</th>\n",
       "    </tr>\n",
       "    <tr>\n",
       "      <th>Opposition</th>\n",
       "      <th>Match Type</th>\n",
       "      <th></th>\n",
       "      <th></th>\n",
       "      <th></th>\n",
       "      <th></th>\n",
       "    </tr>\n",
       "  </thead>\n",
       "  <tbody>\n",
       "    <tr>\n",
       "      <th rowspan=\"2\" valign=\"top\">Australia</th>\n",
       "      <th>ODI</th>\n",
       "      <td>141.0</td>\n",
       "      <td>175</td>\n",
       "      <td>19.0</td>\n",
       "      <td>7.0</td>\n",
       "    </tr>\n",
       "    <tr>\n",
       "      <th>Test</th>\n",
       "      <td>436.0</td>\n",
       "      <td>241</td>\n",
       "      <td>33.0</td>\n",
       "      <td>4.0</td>\n",
       "    </tr>\n",
       "    <tr>\n",
       "      <th rowspan=\"2\" valign=\"top\">Bangladesh</th>\n",
       "      <th>ODI</th>\n",
       "      <td>147.0</td>\n",
       "      <td>114</td>\n",
       "      <td>12.0</td>\n",
       "      <td>2.0</td>\n",
       "    </tr>\n",
       "    <tr>\n",
       "      <th>Test</th>\n",
       "      <td>379.0</td>\n",
       "      <td>248</td>\n",
       "      <td>35.0</td>\n",
       "      <td>2.0</td>\n",
       "    </tr>\n",
       "    <tr>\n",
       "      <th>Bermuda</th>\n",
       "      <th>ODI</th>\n",
       "      <td>29.0</td>\n",
       "      <td>57</td>\n",
       "      <td>2.0</td>\n",
       "      <td>4.0</td>\n",
       "    </tr>\n",
       "    <tr>\n",
       "      <th rowspan=\"2\" valign=\"top\">England</th>\n",
       "      <th>ODI</th>\n",
       "      <td>115.0</td>\n",
       "      <td>120</td>\n",
       "      <td>16.0</td>\n",
       "      <td>5.0</td>\n",
       "    </tr>\n",
       "    <tr>\n",
       "      <th>Test</th>\n",
       "      <td>360.0</td>\n",
       "      <td>193</td>\n",
       "      <td>26.0</td>\n",
       "      <td>3.0</td>\n",
       "    </tr>\n",
       "    <tr>\n",
       "      <th>Ireland</th>\n",
       "      <th>ODI</th>\n",
       "      <td>56.0</td>\n",
       "      <td>38</td>\n",
       "      <td>4.0</td>\n",
       "      <td>0.0</td>\n",
       "    </tr>\n",
       "    <tr>\n",
       "      <th>Kenya</th>\n",
       "      <th>ODI</th>\n",
       "      <td>138.0</td>\n",
       "      <td>146</td>\n",
       "      <td>17.0</td>\n",
       "      <td>3.0</td>\n",
       "    </tr>\n",
       "    <tr>\n",
       "      <th>Namibia</th>\n",
       "      <th>ODI</th>\n",
       "      <td>151.0</td>\n",
       "      <td>152</td>\n",
       "      <td>18.0</td>\n",
       "      <td>0.0</td>\n",
       "    </tr>\n",
       "    <tr>\n",
       "      <th>Netherlands</th>\n",
       "      <th>ODI</th>\n",
       "      <td>72.0</td>\n",
       "      <td>52</td>\n",
       "      <td>7.0</td>\n",
       "      <td>0.0</td>\n",
       "    </tr>\n",
       "    <tr>\n",
       "      <th rowspan=\"2\" valign=\"top\">New Zealand</th>\n",
       "      <th>ODI</th>\n",
       "      <td>150.0</td>\n",
       "      <td>186</td>\n",
       "      <td>20.0</td>\n",
       "      <td>5.0</td>\n",
       "    </tr>\n",
       "    <tr>\n",
       "      <th>Test</th>\n",
       "      <td>344.0</td>\n",
       "      <td>217</td>\n",
       "      <td>29.0</td>\n",
       "      <td>2.0</td>\n",
       "    </tr>\n",
       "    <tr>\n",
       "      <th rowspan=\"2\" valign=\"top\">Pakistan</th>\n",
       "      <th>ODI</th>\n",
       "      <td>140.0</td>\n",
       "      <td>141</td>\n",
       "      <td>17.0</td>\n",
       "      <td>5.0</td>\n",
       "    </tr>\n",
       "    <tr>\n",
       "      <th>Test</th>\n",
       "      <td>348.0</td>\n",
       "      <td>194</td>\n",
       "      <td>21.0</td>\n",
       "      <td>0.0</td>\n",
       "    </tr>\n",
       "    <tr>\n",
       "      <th rowspan=\"2\" valign=\"top\">South Africa</th>\n",
       "      <th>ODI</th>\n",
       "      <td>147.0</td>\n",
       "      <td>200</td>\n",
       "      <td>25.0</td>\n",
       "      <td>4.0</td>\n",
       "    </tr>\n",
       "    <tr>\n",
       "      <th>Test</th>\n",
       "      <td>314.0</td>\n",
       "      <td>169</td>\n",
       "      <td>26.0</td>\n",
       "      <td>2.0</td>\n",
       "    </tr>\n",
       "    <tr>\n",
       "      <th rowspan=\"2\" valign=\"top\">Sri Lanka</th>\n",
       "      <th>ODI</th>\n",
       "      <td>141.0</td>\n",
       "      <td>138</td>\n",
       "      <td>15.0</td>\n",
       "      <td>5.0</td>\n",
       "    </tr>\n",
       "    <tr>\n",
       "      <th>Test</th>\n",
       "      <td>347.0</td>\n",
       "      <td>203</td>\n",
       "      <td>23.0</td>\n",
       "      <td>3.0</td>\n",
       "    </tr>\n",
       "    <tr>\n",
       "      <th>U.A.E.</th>\n",
       "      <th>ODI</th>\n",
       "      <td>77.0</td>\n",
       "      <td>63</td>\n",
       "      <td>7.0</td>\n",
       "      <td>1.0</td>\n",
       "    </tr>\n",
       "    <tr>\n",
       "      <th rowspan=\"2\" valign=\"top\">West Indies</th>\n",
       "      <th>ODI</th>\n",
       "      <td>148.0</td>\n",
       "      <td>141</td>\n",
       "      <td>13.0</td>\n",
       "      <td>5.0</td>\n",
       "    </tr>\n",
       "    <tr>\n",
       "      <th>Test</th>\n",
       "      <td>322.0</td>\n",
       "      <td>179</td>\n",
       "      <td>26.0</td>\n",
       "      <td>2.0</td>\n",
       "    </tr>\n",
       "    <tr>\n",
       "      <th rowspan=\"2\" valign=\"top\">Zimbabwe</th>\n",
       "      <th>ODI</th>\n",
       "      <td>153.0</td>\n",
       "      <td>146</td>\n",
       "      <td>15.0</td>\n",
       "      <td>6.0</td>\n",
       "    </tr>\n",
       "    <tr>\n",
       "      <th>Test</th>\n",
       "      <td>316.0</td>\n",
       "      <td>201</td>\n",
       "      <td>27.0</td>\n",
       "      <td>1.0</td>\n",
       "    </tr>\n",
       "  </tbody>\n",
       "</table>\n",
       "</div>"
      ],
      "text/plain": [
       "                            BF  Runs    4s   6s\n",
       "Opposition   Match Type                        \n",
       "Australia    ODI         141.0   175  19.0  7.0\n",
       "             Test        436.0   241  33.0  4.0\n",
       "Bangladesh   ODI         147.0   114  12.0  2.0\n",
       "             Test        379.0   248  35.0  2.0\n",
       "Bermuda      ODI          29.0    57   2.0  4.0\n",
       "England      ODI         115.0   120  16.0  5.0\n",
       "             Test        360.0   193  26.0  3.0\n",
       "Ireland      ODI          56.0    38   4.0  0.0\n",
       "Kenya        ODI         138.0   146  17.0  3.0\n",
       "Namibia      ODI         151.0   152  18.0  0.0\n",
       "Netherlands  ODI          72.0    52   7.0  0.0\n",
       "New Zealand  ODI         150.0   186  20.0  5.0\n",
       "             Test        344.0   217  29.0  2.0\n",
       "Pakistan     ODI         140.0   141  17.0  5.0\n",
       "             Test        348.0   194  21.0  0.0\n",
       "South Africa ODI         147.0   200  25.0  4.0\n",
       "             Test        314.0   169  26.0  2.0\n",
       "Sri Lanka    ODI         141.0   138  15.0  5.0\n",
       "             Test        347.0   203  23.0  3.0\n",
       "U.A.E.       ODI          77.0    63   7.0  1.0\n",
       "West Indies  ODI         148.0   141  13.0  5.0\n",
       "             Test        322.0   179  26.0  2.0\n",
       "Zimbabwe     ODI         153.0   146  15.0  6.0\n",
       "             Test        316.0   201  27.0  1.0"
      ]
     },
     "execution_count": 61,
     "metadata": {},
     "output_type": "execute_result"
    }
   ],
   "source": [
    "stat.groupby([\"Opposition\",\"Match Type\"])[\"BF\",\"Runs\",\"4s\",\"6s\"].max() #full detailed stat"
   ]
  },
  {
   "cell_type": "code",
   "execution_count": 62,
   "metadata": {
    "ExecuteTime": {
     "end_time": "2020-10-03T07:52:41.504896Z",
     "start_time": "2020-10-03T07:52:41.409151Z"
    }
   },
   "outputs": [
    {
     "data": {
      "text/plain": [
       "4s    4108.0\n",
       "6s     266.0\n",
       "dtype: float64"
      ]
     },
     "execution_count": 62,
     "metadata": {},
     "output_type": "execute_result"
    }
   ],
   "source": [
    "stat[[\"4s\",\"6s\"]].sum() # fours and sixes in international cricket"
   ]
  },
  {
   "cell_type": "code",
   "execution_count": 63,
   "metadata": {
    "ExecuteTime": {
     "end_time": "2020-10-03T07:52:41.700372Z",
     "start_time": "2020-10-03T07:52:41.507889Z"
    }
   },
   "outputs": [
    {
     "data": {
      "text/plain": [
       "Start Date  Match Type\n",
       "1989        ODI             0.000000\n",
       "            Test           50.583333\n",
       "1990        ODI            86.183000\n",
       "            Test           45.523890\n",
       "1991        ODI            63.507143\n",
       "            Test           42.170000\n",
       "1992        ODI            65.875500\n",
       "            Test           42.880000\n",
       "1993        ODI            68.508235\n",
       "            Test           48.521111\n",
       "1994        ODI            77.534800\n",
       "            Test           58.729091\n",
       "1995        ODI            92.589167\n",
       "            Test           59.032225\n",
       "1996        ODI            72.410000\n",
       "            Test           42.767333\n",
       "1997        ODI            73.166667\n",
       "            Test           49.640588\n",
       "1998        ODI            92.400606\n",
       "            Test           69.671111\n",
       "1999        ODI            61.608182\n",
       "            Test           55.144737\n",
       "2000        ODI            74.189412\n",
       "            Test           65.027000\n",
       "2001        ODI            82.256875\n",
       "            Test           55.496667\n",
       "2002        ODI            76.886842\n",
       "            Test           47.017308\n",
       "2003        ODI            75.083333\n",
       "            Test           27.132222\n",
       "2004        ODI            72.330000\n",
       "            Test           44.627333\n",
       "2005        ODI            57.504375\n",
       "            Test           45.927000\n",
       "2006        ODI            61.428750\n",
       "            Test           51.570833\n",
       "2007        ODI            76.860313\n",
       "            Test           51.461250\n",
       "2008        ODI            70.308333\n",
       "            Test           58.024000\n",
       "2009        ODI            78.654000\n",
       "            Test           64.424444\n",
       "2010        ODI           108.025000\n",
       "            Test           56.223478\n",
       "2011        ODI            86.359091\n",
       "            Test           49.532941\n",
       "2012        ODI            73.345000\n",
       "            Test           50.668000\n",
       "2013        Test           61.034444\n",
       "Name: SR, dtype: float64"
      ]
     },
     "execution_count": 63,
     "metadata": {},
     "output_type": "execute_result"
    }
   ],
   "source": [
    "stat.groupby([\"Start Date\",\"Match Type\"])[\"SR\"].mean() #average strike rate in (Test and ODI ) in his career"
   ]
  },
  {
   "cell_type": "code",
   "execution_count": 64,
   "metadata": {
    "ExecuteTime": {
     "end_time": "2020-10-03T07:52:41.862938Z",
     "start_time": "2020-10-03T07:52:41.703364Z"
    }
   },
   "outputs": [
    {
     "data": {
      "text/html": [
       "<div>\n",
       "<style scoped>\n",
       "    .dataframe tbody tr th:only-of-type {\n",
       "        vertical-align: middle;\n",
       "    }\n",
       "\n",
       "    .dataframe tbody tr th {\n",
       "        vertical-align: top;\n",
       "    }\n",
       "\n",
       "    .dataframe thead th {\n",
       "        text-align: right;\n",
       "    }\n",
       "</style>\n",
       "<table border=\"1\" class=\"dataframe\">\n",
       "  <thead>\n",
       "    <tr style=\"text-align: right;\">\n",
       "      <th></th>\n",
       "      <th>Runs</th>\n",
       "      <th>BF</th>\n",
       "      <th>4s</th>\n",
       "      <th>6s</th>\n",
       "      <th>SR</th>\n",
       "      <th>Pos</th>\n",
       "      <th>Dismissal</th>\n",
       "      <th>Inns</th>\n",
       "      <th>Opposition</th>\n",
       "      <th>Ground</th>\n",
       "      <th>Country</th>\n",
       "      <th>Start Date</th>\n",
       "      <th>Result</th>\n",
       "      <th>Mode</th>\n",
       "      <th>Match Type</th>\n",
       "      <th>Out</th>\n",
       "    </tr>\n",
       "  </thead>\n",
       "  <tbody>\n",
       "    <tr>\n",
       "      <th>0</th>\n",
       "      <td>11</td>\n",
       "      <td>21.0</td>\n",
       "      <td>0.0</td>\n",
       "      <td>0.0</td>\n",
       "      <td>52.038899</td>\n",
       "      <td>6.0</td>\n",
       "      <td>LBW</td>\n",
       "      <td>1.0</td>\n",
       "      <td>Sri Lanka</td>\n",
       "      <td>Chandigarh</td>\n",
       "      <td>India</td>\n",
       "      <td>1990</td>\n",
       "      <td>Won</td>\n",
       "      <td>Home</td>\n",
       "      <td>Test</td>\n",
       "      <td>1</td>\n",
       "    </tr>\n",
       "    <tr>\n",
       "      <th>1</th>\n",
       "      <td>50</td>\n",
       "      <td>118.0</td>\n",
       "      <td>6.0</td>\n",
       "      <td>0.0</td>\n",
       "      <td>42.370000</td>\n",
       "      <td>4.0</td>\n",
       "      <td>Caught</td>\n",
       "      <td>1.0</td>\n",
       "      <td>England</td>\n",
       "      <td>Kolkata</td>\n",
       "      <td>India</td>\n",
       "      <td>1993</td>\n",
       "      <td>Won</td>\n",
       "      <td>Home</td>\n",
       "      <td>Test</td>\n",
       "      <td>1</td>\n",
       "    </tr>\n",
       "    <tr>\n",
       "      <th>2</th>\n",
       "      <td>9</td>\n",
       "      <td>19.0</td>\n",
       "      <td>2.0</td>\n",
       "      <td>0.0</td>\n",
       "      <td>47.360000</td>\n",
       "      <td>4.0</td>\n",
       "      <td>Not Out</td>\n",
       "      <td>4.0</td>\n",
       "      <td>England</td>\n",
       "      <td>Kolkata</td>\n",
       "      <td>India</td>\n",
       "      <td>1993</td>\n",
       "      <td>Won</td>\n",
       "      <td>Home</td>\n",
       "      <td>Test</td>\n",
       "      <td>0</td>\n",
       "    </tr>\n",
       "    <tr>\n",
       "      <th>3</th>\n",
       "      <td>165</td>\n",
       "      <td>296.0</td>\n",
       "      <td>24.0</td>\n",
       "      <td>1.0</td>\n",
       "      <td>55.740000</td>\n",
       "      <td>4.0</td>\n",
       "      <td>Caught</td>\n",
       "      <td>1.0</td>\n",
       "      <td>England</td>\n",
       "      <td>Chennai</td>\n",
       "      <td>India</td>\n",
       "      <td>1993</td>\n",
       "      <td>Won</td>\n",
       "      <td>Home</td>\n",
       "      <td>Test</td>\n",
       "      <td>1</td>\n",
       "    </tr>\n",
       "    <tr>\n",
       "      <th>4</th>\n",
       "      <td>78</td>\n",
       "      <td>213.0</td>\n",
       "      <td>10.0</td>\n",
       "      <td>0.0</td>\n",
       "      <td>36.610000</td>\n",
       "      <td>4.0</td>\n",
       "      <td>LBW</td>\n",
       "      <td>2.0</td>\n",
       "      <td>England</td>\n",
       "      <td>Mumbai</td>\n",
       "      <td>India</td>\n",
       "      <td>1993</td>\n",
       "      <td>Won</td>\n",
       "      <td>Home</td>\n",
       "      <td>Test</td>\n",
       "      <td>1</td>\n",
       "    </tr>\n",
       "    <tr>\n",
       "      <th>...</th>\n",
       "      <td>...</td>\n",
       "      <td>...</td>\n",
       "      <td>...</td>\n",
       "      <td>...</td>\n",
       "      <td>...</td>\n",
       "      <td>...</td>\n",
       "      <td>...</td>\n",
       "      <td>...</td>\n",
       "      <td>...</td>\n",
       "      <td>...</td>\n",
       "      <td>...</td>\n",
       "      <td>...</td>\n",
       "      <td>...</td>\n",
       "      <td>...</td>\n",
       "      <td>...</td>\n",
       "      <td>...</td>\n",
       "    </tr>\n",
       "    <tr>\n",
       "      <th>814</th>\n",
       "      <td>14</td>\n",
       "      <td>15.0</td>\n",
       "      <td>2.0</td>\n",
       "      <td>0.0</td>\n",
       "      <td>93.330000</td>\n",
       "      <td>2.0</td>\n",
       "      <td>Run Out</td>\n",
       "      <td>2.0</td>\n",
       "      <td>Australia</td>\n",
       "      <td>Sydney</td>\n",
       "      <td>Australia</td>\n",
       "      <td>2012</td>\n",
       "      <td>Lost</td>\n",
       "      <td>Away</td>\n",
       "      <td>ODI</td>\n",
       "      <td>1</td>\n",
       "    </tr>\n",
       "    <tr>\n",
       "      <th>815</th>\n",
       "      <td>39</td>\n",
       "      <td>30.0</td>\n",
       "      <td>5.0</td>\n",
       "      <td>0.0</td>\n",
       "      <td>130.000000</td>\n",
       "      <td>2.0</td>\n",
       "      <td>LBW</td>\n",
       "      <td>2.0</td>\n",
       "      <td>Sri Lanka</td>\n",
       "      <td>Hobart</td>\n",
       "      <td>Australia</td>\n",
       "      <td>2012</td>\n",
       "      <td>Won</td>\n",
       "      <td>Away</td>\n",
       "      <td>ODI</td>\n",
       "      <td>1</td>\n",
       "    </tr>\n",
       "    <tr>\n",
       "      <th>816</th>\n",
       "      <td>6</td>\n",
       "      <td>19.0</td>\n",
       "      <td>1.0</td>\n",
       "      <td>0.0</td>\n",
       "      <td>31.570000</td>\n",
       "      <td>2.0</td>\n",
       "      <td>Caught</td>\n",
       "      <td>1.0</td>\n",
       "      <td>Sri Lanka</td>\n",
       "      <td>Dhaka</td>\n",
       "      <td>Bangladesh</td>\n",
       "      <td>2012</td>\n",
       "      <td>Won</td>\n",
       "      <td>Away</td>\n",
       "      <td>ODI</td>\n",
       "      <td>1</td>\n",
       "    </tr>\n",
       "    <tr>\n",
       "      <th>817</th>\n",
       "      <td>114</td>\n",
       "      <td>147.0</td>\n",
       "      <td>12.0</td>\n",
       "      <td>1.0</td>\n",
       "      <td>77.550000</td>\n",
       "      <td>2.0</td>\n",
       "      <td>Caught</td>\n",
       "      <td>1.0</td>\n",
       "      <td>Bangladesh</td>\n",
       "      <td>Dhaka</td>\n",
       "      <td>Bangladesh</td>\n",
       "      <td>2012</td>\n",
       "      <td>Lost</td>\n",
       "      <td>Away</td>\n",
       "      <td>ODI</td>\n",
       "      <td>1</td>\n",
       "    </tr>\n",
       "    <tr>\n",
       "      <th>818</th>\n",
       "      <td>52</td>\n",
       "      <td>48.0</td>\n",
       "      <td>5.0</td>\n",
       "      <td>1.0</td>\n",
       "      <td>108.330000</td>\n",
       "      <td>2.0</td>\n",
       "      <td>Caught</td>\n",
       "      <td>2.0</td>\n",
       "      <td>Pakistan</td>\n",
       "      <td>Dhaka</td>\n",
       "      <td>Bangladesh</td>\n",
       "      <td>2012</td>\n",
       "      <td>Won</td>\n",
       "      <td>Away</td>\n",
       "      <td>ODI</td>\n",
       "      <td>1</td>\n",
       "    </tr>\n",
       "  </tbody>\n",
       "</table>\n",
       "<p>790 rows × 16 columns</p>\n",
       "</div>"
      ],
      "text/plain": [
       "     Runs     BF    4s   6s          SR  Pos Dismissal  Inns  Opposition  \\\n",
       "0      11   21.0   0.0  0.0   52.038899  6.0       LBW   1.0   Sri Lanka   \n",
       "1      50  118.0   6.0  0.0   42.370000  4.0    Caught   1.0     England   \n",
       "2       9   19.0   2.0  0.0   47.360000  4.0   Not Out   4.0     England   \n",
       "3     165  296.0  24.0  1.0   55.740000  4.0    Caught   1.0     England   \n",
       "4      78  213.0  10.0  0.0   36.610000  4.0       LBW   2.0     England   \n",
       "..    ...    ...   ...  ...         ...  ...       ...   ...         ...   \n",
       "814    14   15.0   2.0  0.0   93.330000  2.0   Run Out   2.0   Australia   \n",
       "815    39   30.0   5.0  0.0  130.000000  2.0       LBW   2.0   Sri Lanka   \n",
       "816     6   19.0   1.0  0.0   31.570000  2.0    Caught   1.0   Sri Lanka   \n",
       "817   114  147.0  12.0  1.0   77.550000  2.0    Caught   1.0  Bangladesh   \n",
       "818    52   48.0   5.0  1.0  108.330000  2.0    Caught   2.0    Pakistan   \n",
       "\n",
       "         Ground     Country Start Date Result  Mode Match Type  Out  \n",
       "0    Chandigarh       India       1990    Won  Home       Test    1  \n",
       "1       Kolkata       India       1993    Won  Home       Test    1  \n",
       "2       Kolkata       India       1993    Won  Home       Test    0  \n",
       "3       Chennai       India       1993    Won  Home       Test    1  \n",
       "4        Mumbai       India       1993    Won  Home       Test    1  \n",
       "..          ...         ...        ...    ...   ...        ...  ...  \n",
       "814      Sydney   Australia       2012   Lost  Away        ODI    1  \n",
       "815      Hobart   Australia       2012    Won  Away        ODI    1  \n",
       "816       Dhaka  Bangladesh       2012    Won  Away        ODI    1  \n",
       "817       Dhaka  Bangladesh       2012   Lost  Away        ODI    1  \n",
       "818       Dhaka  Bangladesh       2012    Won  Away        ODI    1  \n",
       "\n",
       "[790 rows x 16 columns]"
      ]
     },
     "execution_count": 64,
     "metadata": {},
     "output_type": "execute_result"
    }
   ],
   "source": [
    "stat"
   ]
  },
  {
   "cell_type": "code",
   "execution_count": 65,
   "metadata": {
    "ExecuteTime": {
     "end_time": "2020-10-03T07:52:41.990596Z",
     "start_time": "2020-10-03T07:52:41.865929Z"
    }
   },
   "outputs": [],
   "source": [
    "avg=stat[[\"Pos\",\"Runs\",\"Out\",\"Match Type\",\"Start Date\",\"Result\",\"Mode\"]]"
   ]
  },
  {
   "cell_type": "code",
   "execution_count": 66,
   "metadata": {
    "ExecuteTime": {
     "end_time": "2020-10-03T07:52:42.165131Z",
     "start_time": "2020-10-03T07:52:41.993590Z"
    }
   },
   "outputs": [
    {
     "data": {
      "text/plain": [
       "Match Type  Pos\n",
       "ODI         1.0     1625\n",
       "            2.0    13685\n",
       "            3.0       92\n",
       "            4.0     2059\n",
       "            5.0      797\n",
       "            6.0      148\n",
       "            7.0       20\n",
       "Test        2.0       15\n",
       "            4.0    13768\n",
       "            5.0     1552\n",
       "            6.0      745\n",
       "            7.0      117\n",
       "Name: Runs, dtype: int32"
      ]
     },
     "execution_count": 66,
     "metadata": {},
     "output_type": "execute_result"
    }
   ],
   "source": [
    "run=avg.groupby([\"Match Type\",\"Pos\"])[\"Runs\"].sum()\n",
    "run"
   ]
  },
  {
   "cell_type": "code",
   "execution_count": 67,
   "metadata": {
    "ExecuteTime": {
     "end_time": "2020-10-03T07:52:42.307749Z",
     "start_time": "2020-10-03T07:52:42.168123Z"
    }
   },
   "outputs": [
    {
     "data": {
      "text/plain": [
       "Match Type  Pos\n",
       "ODI         1.0     45\n",
       "            2.0    272\n",
       "            3.0      9\n",
       "            4.0     53\n",
       "            5.0     28\n",
       "            6.0      3\n",
       "            7.0      1\n",
       "Test        2.0      1\n",
       "            4.0    256\n",
       "            5.0     26\n",
       "            6.0     17\n",
       "            7.0      4\n",
       "Name: Out, dtype: int64"
      ]
     },
     "execution_count": 67,
     "metadata": {},
     "output_type": "execute_result"
    }
   ],
   "source": [
    "out=avg.groupby([\"Match Type\",\"Pos\"])[\"Out\"].sum()\n",
    "out"
   ]
  },
  {
   "cell_type": "code",
   "execution_count": 68,
   "metadata": {
    "ExecuteTime": {
     "end_time": "2020-10-03T07:52:42.553094Z",
     "start_time": "2020-10-03T07:52:42.325700Z"
    }
   },
   "outputs": [
    {
     "data": {
      "text/plain": [
       "Match Type  Pos\n",
       "ODI         1.0    36.111111\n",
       "            2.0    50.312500\n",
       "            3.0    10.222222\n",
       "            4.0    38.849057\n",
       "            5.0    28.464286\n",
       "            6.0    49.333333\n",
       "            7.0    20.000000\n",
       "Test        2.0    15.000000\n",
       "            4.0    53.781250\n",
       "            5.0    59.692308\n",
       "            6.0    43.823529\n",
       "            7.0    29.250000\n",
       "dtype: float64"
      ]
     },
     "execution_count": 68,
     "metadata": {},
     "output_type": "execute_result"
    }
   ],
   "source": [
    "average=run/out\n",
    "average #averate with respect to each position he has batted on in his career (Test & ODI)"
   ]
  },
  {
   "cell_type": "code",
   "execution_count": 69,
   "metadata": {
    "ExecuteTime": {
     "end_time": "2020-10-03T07:52:42.664794Z",
     "start_time": "2020-10-03T07:52:42.561070Z"
    }
   },
   "outputs": [
    {
     "data": {
      "text/plain": [
       "Match Type  Pos\n",
       "ODI         1.0    34.574468\n",
       "            2.0    46.706485\n",
       "            3.0     9.200000\n",
       "            4.0    33.754098\n",
       "            5.0    22.138889\n",
       "            6.0    37.000000\n",
       "            7.0    20.000000\n",
       "Test        2.0    15.000000\n",
       "            4.0    48.478873\n",
       "            5.0    53.517241\n",
       "            6.0    37.250000\n",
       "            7.0    29.250000\n",
       "Name: Runs, dtype: float64"
      ]
     },
     "execution_count": 69,
     "metadata": {},
     "output_type": "execute_result"
    }
   ],
   "source": [
    "avg.groupby([\"Match Type\",\"Pos\"])[\"Runs\"].mean() # if we don't consider no. of notouts"
   ]
  },
  {
   "cell_type": "code",
   "execution_count": 70,
   "metadata": {
    "ExecuteTime": {
     "end_time": "2020-10-03T07:52:42.829353Z",
     "start_time": "2020-10-03T07:52:42.667786Z"
    }
   },
   "outputs": [
    {
     "data": {
      "text/html": [
       "<div>\n",
       "<style scoped>\n",
       "    .dataframe tbody tr th:only-of-type {\n",
       "        vertical-align: middle;\n",
       "    }\n",
       "\n",
       "    .dataframe tbody tr th {\n",
       "        vertical-align: top;\n",
       "    }\n",
       "\n",
       "    .dataframe thead th {\n",
       "        text-align: right;\n",
       "    }\n",
       "</style>\n",
       "<table border=\"1\" class=\"dataframe\">\n",
       "  <thead>\n",
       "    <tr style=\"text-align: right;\">\n",
       "      <th></th>\n",
       "      <th>Runs</th>\n",
       "      <th>BF</th>\n",
       "      <th>4s</th>\n",
       "      <th>6s</th>\n",
       "      <th>SR</th>\n",
       "      <th>Pos</th>\n",
       "      <th>Dismissal</th>\n",
       "      <th>Inns</th>\n",
       "      <th>Opposition</th>\n",
       "      <th>Ground</th>\n",
       "      <th>Country</th>\n",
       "      <th>Start Date</th>\n",
       "      <th>Result</th>\n",
       "      <th>Mode</th>\n",
       "      <th>Match Type</th>\n",
       "      <th>Out</th>\n",
       "    </tr>\n",
       "  </thead>\n",
       "  <tbody>\n",
       "    <tr>\n",
       "      <th>0</th>\n",
       "      <td>11</td>\n",
       "      <td>21.0</td>\n",
       "      <td>0.0</td>\n",
       "      <td>0.0</td>\n",
       "      <td>52.038899</td>\n",
       "      <td>6.0</td>\n",
       "      <td>LBW</td>\n",
       "      <td>1.0</td>\n",
       "      <td>Sri Lanka</td>\n",
       "      <td>Chandigarh</td>\n",
       "      <td>India</td>\n",
       "      <td>1990</td>\n",
       "      <td>Won</td>\n",
       "      <td>Home</td>\n",
       "      <td>Test</td>\n",
       "      <td>1</td>\n",
       "    </tr>\n",
       "    <tr>\n",
       "      <th>1</th>\n",
       "      <td>50</td>\n",
       "      <td>118.0</td>\n",
       "      <td>6.0</td>\n",
       "      <td>0.0</td>\n",
       "      <td>42.370000</td>\n",
       "      <td>4.0</td>\n",
       "      <td>Caught</td>\n",
       "      <td>1.0</td>\n",
       "      <td>England</td>\n",
       "      <td>Kolkata</td>\n",
       "      <td>India</td>\n",
       "      <td>1993</td>\n",
       "      <td>Won</td>\n",
       "      <td>Home</td>\n",
       "      <td>Test</td>\n",
       "      <td>1</td>\n",
       "    </tr>\n",
       "    <tr>\n",
       "      <th>2</th>\n",
       "      <td>9</td>\n",
       "      <td>19.0</td>\n",
       "      <td>2.0</td>\n",
       "      <td>0.0</td>\n",
       "      <td>47.360000</td>\n",
       "      <td>4.0</td>\n",
       "      <td>Not Out</td>\n",
       "      <td>4.0</td>\n",
       "      <td>England</td>\n",
       "      <td>Kolkata</td>\n",
       "      <td>India</td>\n",
       "      <td>1993</td>\n",
       "      <td>Won</td>\n",
       "      <td>Home</td>\n",
       "      <td>Test</td>\n",
       "      <td>0</td>\n",
       "    </tr>\n",
       "    <tr>\n",
       "      <th>3</th>\n",
       "      <td>165</td>\n",
       "      <td>296.0</td>\n",
       "      <td>24.0</td>\n",
       "      <td>1.0</td>\n",
       "      <td>55.740000</td>\n",
       "      <td>4.0</td>\n",
       "      <td>Caught</td>\n",
       "      <td>1.0</td>\n",
       "      <td>England</td>\n",
       "      <td>Chennai</td>\n",
       "      <td>India</td>\n",
       "      <td>1993</td>\n",
       "      <td>Won</td>\n",
       "      <td>Home</td>\n",
       "      <td>Test</td>\n",
       "      <td>1</td>\n",
       "    </tr>\n",
       "    <tr>\n",
       "      <th>4</th>\n",
       "      <td>78</td>\n",
       "      <td>213.0</td>\n",
       "      <td>10.0</td>\n",
       "      <td>0.0</td>\n",
       "      <td>36.610000</td>\n",
       "      <td>4.0</td>\n",
       "      <td>LBW</td>\n",
       "      <td>2.0</td>\n",
       "      <td>England</td>\n",
       "      <td>Mumbai</td>\n",
       "      <td>India</td>\n",
       "      <td>1993</td>\n",
       "      <td>Won</td>\n",
       "      <td>Home</td>\n",
       "      <td>Test</td>\n",
       "      <td>1</td>\n",
       "    </tr>\n",
       "    <tr>\n",
       "      <th>...</th>\n",
       "      <td>...</td>\n",
       "      <td>...</td>\n",
       "      <td>...</td>\n",
       "      <td>...</td>\n",
       "      <td>...</td>\n",
       "      <td>...</td>\n",
       "      <td>...</td>\n",
       "      <td>...</td>\n",
       "      <td>...</td>\n",
       "      <td>...</td>\n",
       "      <td>...</td>\n",
       "      <td>...</td>\n",
       "      <td>...</td>\n",
       "      <td>...</td>\n",
       "      <td>...</td>\n",
       "      <td>...</td>\n",
       "    </tr>\n",
       "    <tr>\n",
       "      <th>814</th>\n",
       "      <td>14</td>\n",
       "      <td>15.0</td>\n",
       "      <td>2.0</td>\n",
       "      <td>0.0</td>\n",
       "      <td>93.330000</td>\n",
       "      <td>2.0</td>\n",
       "      <td>Run Out</td>\n",
       "      <td>2.0</td>\n",
       "      <td>Australia</td>\n",
       "      <td>Sydney</td>\n",
       "      <td>Australia</td>\n",
       "      <td>2012</td>\n",
       "      <td>Lost</td>\n",
       "      <td>Away</td>\n",
       "      <td>ODI</td>\n",
       "      <td>1</td>\n",
       "    </tr>\n",
       "    <tr>\n",
       "      <th>815</th>\n",
       "      <td>39</td>\n",
       "      <td>30.0</td>\n",
       "      <td>5.0</td>\n",
       "      <td>0.0</td>\n",
       "      <td>130.000000</td>\n",
       "      <td>2.0</td>\n",
       "      <td>LBW</td>\n",
       "      <td>2.0</td>\n",
       "      <td>Sri Lanka</td>\n",
       "      <td>Hobart</td>\n",
       "      <td>Australia</td>\n",
       "      <td>2012</td>\n",
       "      <td>Won</td>\n",
       "      <td>Away</td>\n",
       "      <td>ODI</td>\n",
       "      <td>1</td>\n",
       "    </tr>\n",
       "    <tr>\n",
       "      <th>816</th>\n",
       "      <td>6</td>\n",
       "      <td>19.0</td>\n",
       "      <td>1.0</td>\n",
       "      <td>0.0</td>\n",
       "      <td>31.570000</td>\n",
       "      <td>2.0</td>\n",
       "      <td>Caught</td>\n",
       "      <td>1.0</td>\n",
       "      <td>Sri Lanka</td>\n",
       "      <td>Dhaka</td>\n",
       "      <td>Bangladesh</td>\n",
       "      <td>2012</td>\n",
       "      <td>Won</td>\n",
       "      <td>Away</td>\n",
       "      <td>ODI</td>\n",
       "      <td>1</td>\n",
       "    </tr>\n",
       "    <tr>\n",
       "      <th>817</th>\n",
       "      <td>114</td>\n",
       "      <td>147.0</td>\n",
       "      <td>12.0</td>\n",
       "      <td>1.0</td>\n",
       "      <td>77.550000</td>\n",
       "      <td>2.0</td>\n",
       "      <td>Caught</td>\n",
       "      <td>1.0</td>\n",
       "      <td>Bangladesh</td>\n",
       "      <td>Dhaka</td>\n",
       "      <td>Bangladesh</td>\n",
       "      <td>2012</td>\n",
       "      <td>Lost</td>\n",
       "      <td>Away</td>\n",
       "      <td>ODI</td>\n",
       "      <td>1</td>\n",
       "    </tr>\n",
       "    <tr>\n",
       "      <th>818</th>\n",
       "      <td>52</td>\n",
       "      <td>48.0</td>\n",
       "      <td>5.0</td>\n",
       "      <td>1.0</td>\n",
       "      <td>108.330000</td>\n",
       "      <td>2.0</td>\n",
       "      <td>Caught</td>\n",
       "      <td>2.0</td>\n",
       "      <td>Pakistan</td>\n",
       "      <td>Dhaka</td>\n",
       "      <td>Bangladesh</td>\n",
       "      <td>2012</td>\n",
       "      <td>Won</td>\n",
       "      <td>Away</td>\n",
       "      <td>ODI</td>\n",
       "      <td>1</td>\n",
       "    </tr>\n",
       "  </tbody>\n",
       "</table>\n",
       "<p>790 rows × 16 columns</p>\n",
       "</div>"
      ],
      "text/plain": [
       "     Runs     BF    4s   6s          SR  Pos Dismissal  Inns  Opposition  \\\n",
       "0      11   21.0   0.0  0.0   52.038899  6.0       LBW   1.0   Sri Lanka   \n",
       "1      50  118.0   6.0  0.0   42.370000  4.0    Caught   1.0     England   \n",
       "2       9   19.0   2.0  0.0   47.360000  4.0   Not Out   4.0     England   \n",
       "3     165  296.0  24.0  1.0   55.740000  4.0    Caught   1.0     England   \n",
       "4      78  213.0  10.0  0.0   36.610000  4.0       LBW   2.0     England   \n",
       "..    ...    ...   ...  ...         ...  ...       ...   ...         ...   \n",
       "814    14   15.0   2.0  0.0   93.330000  2.0   Run Out   2.0   Australia   \n",
       "815    39   30.0   5.0  0.0  130.000000  2.0       LBW   2.0   Sri Lanka   \n",
       "816     6   19.0   1.0  0.0   31.570000  2.0    Caught   1.0   Sri Lanka   \n",
       "817   114  147.0  12.0  1.0   77.550000  2.0    Caught   1.0  Bangladesh   \n",
       "818    52   48.0   5.0  1.0  108.330000  2.0    Caught   2.0    Pakistan   \n",
       "\n",
       "         Ground     Country Start Date Result  Mode Match Type  Out  \n",
       "0    Chandigarh       India       1990    Won  Home       Test    1  \n",
       "1       Kolkata       India       1993    Won  Home       Test    1  \n",
       "2       Kolkata       India       1993    Won  Home       Test    0  \n",
       "3       Chennai       India       1993    Won  Home       Test    1  \n",
       "4        Mumbai       India       1993    Won  Home       Test    1  \n",
       "..          ...         ...        ...    ...   ...        ...  ...  \n",
       "814      Sydney   Australia       2012   Lost  Away        ODI    1  \n",
       "815      Hobart   Australia       2012    Won  Away        ODI    1  \n",
       "816       Dhaka  Bangladesh       2012    Won  Away        ODI    1  \n",
       "817       Dhaka  Bangladesh       2012   Lost  Away        ODI    1  \n",
       "818       Dhaka  Bangladesh       2012    Won  Away        ODI    1  \n",
       "\n",
       "[790 rows x 16 columns]"
      ]
     },
     "execution_count": 70,
     "metadata": {},
     "output_type": "execute_result"
    }
   ],
   "source": [
    "stat"
   ]
  },
  {
   "cell_type": "code",
   "execution_count": 71,
   "metadata": {
    "ExecuteTime": {
     "end_time": "2020-10-03T07:52:42.952027Z",
     "start_time": "2020-10-03T07:52:42.832348Z"
    }
   },
   "outputs": [
    {
     "data": {
      "text/plain": [
       "Match Type  Dismissal \n",
       "ODI         Bowled         68\n",
       "            Caught        258\n",
       "            Hit Wicket      1\n",
       "            LBW            39\n",
       "            Not Out        41\n",
       "            Run Out        34\n",
       "            Stumped        11\n",
       "Test        Bowled         55\n",
       "            Caught        172\n",
       "            LBW            66\n",
       "            Not Out        34\n",
       "            Run Out        10\n",
       "            Stumped         1\n",
       "Name: Out, dtype: int64"
      ]
     },
     "execution_count": 71,
     "metadata": {},
     "output_type": "execute_result"
    }
   ],
   "source": [
    "stat.groupby([\"Match Type\",\"Dismissal\"])[\"Out\"].count() #dismissal type"
   ]
  },
  {
   "cell_type": "code",
   "execution_count": 72,
   "metadata": {
    "ExecuteTime": {
     "end_time": "2020-10-03T07:52:43.080680Z",
     "start_time": "2020-10-03T07:52:42.955018Z"
    }
   },
   "outputs": [],
   "source": [
    "cen=stat[stat[\"Runs\"]>=100].groupby(\"Ground\",sort=True)[\"Runs\"].count()"
   ]
  },
  {
   "cell_type": "code",
   "execution_count": 73,
   "metadata": {
    "ExecuteTime": {
     "end_time": "2020-10-03T07:52:43.210333Z",
     "start_time": "2020-10-03T07:52:43.083675Z"
    }
   },
   "outputs": [],
   "source": [
    "cen.sort_values(ascending=False,inplace=True)"
   ]
  },
  {
   "cell_type": "code",
   "execution_count": 74,
   "metadata": {
    "ExecuteTime": {
     "end_time": "2020-10-03T07:52:43.335999Z",
     "start_time": "2020-10-03T07:52:43.213328Z"
    }
   },
   "outputs": [
    {
     "data": {
      "text/plain": [
       "Ground\n",
       "Sharjah          7\n",
       "Nagpur           6\n",
       "Colombo (RPS)    5\n",
       "Colombo (SSC)    5\n",
       "Dhaka            5\n",
       "Chennai          5\n",
       "Sydney           4\n",
       "Ahmedabad        4\n",
       "Bengaluru        4\n",
       "Kolkata          3\n",
       "Name: Runs, dtype: int64"
      ]
     },
     "execution_count": 74,
     "metadata": {},
     "output_type": "execute_result"
    }
   ],
   "source": [
    "cen.head(10) #top 10 grounds with most centuries"
   ]
  },
  {
   "cell_type": "code",
   "execution_count": 75,
   "metadata": {
    "ExecuteTime": {
     "end_time": "2020-10-03T07:52:43.458671Z",
     "start_time": "2020-10-03T07:52:43.338990Z"
    }
   },
   "outputs": [
    {
     "data": {
      "text/plain": [
       "Match Type  Start Date\n",
       "ODI         1989            0.000000\n",
       "            1990           23.900000\n",
       "            1991           34.750000\n",
       "            1992           39.111111\n",
       "            1993           24.538462\n",
       "            1994           47.347826\n",
       "            1995           40.363636\n",
       "            1996           53.700000\n",
       "            1997           30.636364\n",
       "            1998           65.310345\n",
       "            1999           42.150000\n",
       "            2000           39.058824\n",
       "            2001           69.538462\n",
       "            2002           52.928571\n",
       "            2003           57.050000\n",
       "            2004           40.600000\n",
       "            2005           27.466667\n",
       "            2006           44.857143\n",
       "            2007           47.500000\n",
       "            2008           41.818182\n",
       "            2009           54.000000\n",
       "            2010          204.000000\n",
       "            2011           46.636364\n",
       "            2012           31.500000\n",
       "Test        1989           35.833333\n",
       "            1990           41.444444\n",
       "            1991           19.500000\n",
       "            1992           41.900000\n",
       "            1993           91.428571\n",
       "            1994           70.000000\n",
       "            1995           29.000000\n",
       "            1996           41.533333\n",
       "            1997           62.500000\n",
       "            1998           80.875000\n",
       "            1999           68.000000\n",
       "            2000           63.888889\n",
       "            2001           62.687500\n",
       "            2002           55.680000\n",
       "            2003           17.000000\n",
       "            2004           91.500000\n",
       "            2005           44.400000\n",
       "            2006           24.272727\n",
       "            2007           55.428571\n",
       "            2008           48.318182\n",
       "            2009           67.625000\n",
       "            2010           78.100000\n",
       "            2011           47.250000\n",
       "            2012           23.800000\n",
       "            2013           34.500000\n",
       "dtype: float64"
      ]
     },
     "execution_count": 75,
     "metadata": {},
     "output_type": "execute_result"
    }
   ],
   "source": [
    "run=avg.groupby([\"Match Type\",\"Start Date\"])[\"Runs\"].sum()\n",
    "out=avg.groupby([\"Match Type\",\"Start Date\"])[\"Out\"].sum()\n",
    "average=run/out\n",
    "average #sachin career avg throughout the years"
   ]
  },
  {
   "cell_type": "code",
   "execution_count": 76,
   "metadata": {
    "ExecuteTime": {
     "end_time": "2020-10-03T07:52:43.692049Z",
     "start_time": "2020-10-03T07:52:43.461663Z"
    }
   },
   "outputs": [
    {
     "data": {
      "text/plain": [
       "Match Type  Result   \n",
       "ODI         Lost         33.257576\n",
       "            No Result    47.090909\n",
       "            Tied         33.200000\n",
       "            Won          56.634518\n",
       "Test        Drawn        65.411111\n",
       "            Lost         37.163636\n",
       "            Won          59.826923\n",
       "dtype: float64"
      ]
     },
     "execution_count": 76,
     "metadata": {},
     "output_type": "execute_result"
    }
   ],
   "source": [
    "run=avg.groupby([\"Match Type\",\"Result\"])[\"Runs\"].sum()\n",
    "out=avg.groupby([\"Match Type\",\"Result\"])[\"Out\"].sum()\n",
    "average=run/out\n",
    "average#average in india results"
   ]
  },
  {
   "cell_type": "code",
   "execution_count": 77,
   "metadata": {
    "ExecuteTime": {
     "end_time": "2020-10-03T07:52:43.801753Z",
     "start_time": "2020-10-03T07:52:43.695038Z"
    }
   },
   "outputs": [
    {
     "data": {
      "text/plain": [
       "Match Type  Mode  Result   \n",
       "ODI         Away  Lost         29.884058\n",
       "                  No Result    47.000000\n",
       "                  Tied          7.333333\n",
       "                  Won          59.426087\n",
       "            Home  Lost         41.016667\n",
       "                  No Result    48.000000\n",
       "                  Tied         72.000000\n",
       "                  Won          52.719512\n",
       "Test        Away  Drawn        69.538462\n",
       "                  Lost         37.463415\n",
       "                  Won          80.680000\n",
       "            Home  Drawn        59.763158\n",
       "                  Lost         36.285714\n",
       "                  Won          53.227848\n",
       "dtype: float64"
      ]
     },
     "execution_count": 77,
     "metadata": {},
     "output_type": "execute_result"
    }
   ],
   "source": [
    "run=avg.groupby([\"Match Type\",\"Mode\",\"Result\"])[\"Runs\"].sum()\n",
    "out=avg.groupby([\"Match Type\",\"Mode\",\"Result\"])[\"Out\"].sum()\n",
    "average=run/out\n",
    "average#more details"
   ]
  },
  {
   "cell_type": "code",
   "execution_count": null,
   "metadata": {},
   "outputs": [],
   "source": []
  }
 ],
 "metadata": {
  "kernelspec": {
   "display_name": "Python 3",
   "language": "python",
   "name": "python3"
  },
  "language_info": {
   "codemirror_mode": {
    "name": "ipython",
    "version": 3
   },
   "file_extension": ".py",
   "mimetype": "text/x-python",
   "name": "python",
   "nbconvert_exporter": "python",
   "pygments_lexer": "ipython3",
   "version": "3.7.7"
  },
  "toc": {
   "base_numbering": 1,
   "nav_menu": {},
   "number_sections": true,
   "sideBar": true,
   "skip_h1_title": false,
   "title_cell": "Table of Contents",
   "title_sidebar": "Contents",
   "toc_cell": false,
   "toc_position": {},
   "toc_section_display": true,
   "toc_window_display": false
  },
  "varInspector": {
   "cols": {
    "lenName": 16,
    "lenType": 16,
    "lenVar": 40
   },
   "kernels_config": {
    "python": {
     "delete_cmd_postfix": "",
     "delete_cmd_prefix": "del ",
     "library": "var_list.py",
     "varRefreshCmd": "print(var_dic_list())"
    },
    "r": {
     "delete_cmd_postfix": ") ",
     "delete_cmd_prefix": "rm(",
     "library": "var_list.r",
     "varRefreshCmd": "cat(var_dic_list()) "
    }
   },
   "types_to_exclude": [
    "module",
    "function",
    "builtin_function_or_method",
    "instance",
    "_Feature"
   ],
   "window_display": false
  }
 },
 "nbformat": 4,
 "nbformat_minor": 4
}
